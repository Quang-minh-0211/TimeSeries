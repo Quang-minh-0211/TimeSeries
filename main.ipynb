{
 "cells": [
  {
   "cell_type": "code",
   "execution_count": 27,
   "id": "b696050a",
   "metadata": {},
   "outputs": [],
   "source": [
    "import pandas as pd\n",
    "import numpy as np\n",
    "from sklearn.model_selection import train_test_split\n",
    "from sklearn.preprocessing import OneHotEncoder\n",
    "from sklearn.compose import ColumnTransformer\n",
    "from sklearn.pipeline import Pipeline\n",
    "from sklearn.linear_model import LinearRegression\n",
    "from sklearn.ensemble import RandomForestRegressor\n",
    "from sklearn.neural_network import MLPRegressor\n",
    "from sklearn.metrics import mean_squared_error, r2_score\n",
    "\n",
    "df = pd.read_csv(r\"D:\\BigData And DataMining\\Data Mining\\TimeSeris\\BTTH1\\train.csv\")\n"
   ]
  },
  {
   "cell_type": "code",
   "execution_count": 28,
   "id": "52ae1eb9",
   "metadata": {},
   "outputs": [],
   "source": [
    "# Bước 2: Kalman Filter thủ công cho Listening_Time_minutes\n",
    "listening_time = df['Listening_Time_minutes'].dropna().reset_index(drop=True)\n",
    "n = len(listening_time)\n",
    "Q = 1e-5\n",
    "R = 1\n",
    "\n",
    "xhat = np.zeros(n)\n",
    "P = np.zeros(n)\n",
    "xhatminus = np.zeros(n)\n",
    "Pminus = np.zeros(n)\n",
    "K = np.zeros(n)\n",
    "\n",
    "xhat[0] = listening_time[0]\n",
    "P[0] = 1.0\n",
    "\n",
    "for k in range(1, n):\n",
    "    xhatminus[k] = xhat[k-1]\n",
    "    Pminus[k] = P[k-1] + Q\n",
    "\n",
    "    K[k] = Pminus[k] / (Pminus[k] + R)\n",
    "    xhat[k] = xhatminus[k] + K[k] * (listening_time[k] - xhatminus[k])\n",
    "    P[k] = (1 - K[k]) * Pminus[k]\n"
   ]
  },
  {
   "cell_type": "code",
   "execution_count": 29,
   "id": "cdca4e39",
   "metadata": {},
   "outputs": [],
   "source": [
    "# Bước 3: Tạo DataFrame mới với dữ liệu đã lọc\n",
    "filtered_df = df.loc[listening_time.index].copy()\n",
    "filtered_df['Kalman_Listening_Time'] = xhat\n",
    "\n",
    "# Bước 4: Xác định biến đầu vào và đầu ra\n",
    "features = ['Episode_Length_minutes', 'Host_Popularity_percentage',\n",
    "            'Guest_Popularity_percentage', 'Number_of_Ads',\n",
    "            'Publication_Time', 'Episode_Sentiment']\n",
    "target = 'Kalman_Listening_Time'\n",
    "\n",
    "# Xóa các hàng có giá trị thiếu\n",
    "filtered_df = filtered_df.dropna(subset=features)\n",
    "\n",
    "X = filtered_df[features]\n",
    "y = filtered_df[target]"
   ]
  },
  {
   "cell_type": "code",
   "execution_count": 30,
   "id": "f46c22dc",
   "metadata": {},
   "outputs": [],
   "source": [
    "# Bước 5: Tiền xử lý dữ liệu\n",
    "categorical_features = ['Publication_Time', 'Episode_Sentiment']\n",
    "numeric_features = list(set(features) - set(categorical_features))\n",
    "\n",
    "preprocessor = ColumnTransformer([\n",
    "    ('num', 'passthrough', numeric_features),\n",
    "    ('cat', OneHotEncoder(handle_unknown='ignore'), categorical_features)\n",
    "])\n",
    "\n",
    "# Bước 6: Tách train/test\n",
    "X_train, X_test, y_train, y_test = train_test_split(X, y, test_size=0.2, random_state=42)\n",
    "\n",
    "# Bước 7: Khởi tạo và huấn luyện các mô hình\n",
    "models = {\n",
    "    'Linear Regression': LinearRegression(),\n",
    "    'Random Forest': RandomForestRegressor(random_state=42),\n",
    "    'Neural Network': MLPRegressor(hidden_layer_sizes=(50, 30), max_iter=500, random_state=42)\n",
    "}\n"
   ]
  },
  {
   "cell_type": "code",
   "execution_count": 31,
   "id": "3045d5ce",
   "metadata": {},
   "outputs": [
    {
     "name": "stdout",
     "output_type": "stream",
     "text": [
      "🔹 Linear Regression\n",
      "   RMSE: 1.10\n",
      "   R² Score: 0.005\n",
      "\n",
      "🔹 Random Forest\n",
      "   RMSE: 1.15\n",
      "   R² Score: -0.072\n",
      "\n",
      "🔹 Neural Network\n",
      "   RMSE: 1.19\n",
      "   R² Score: -0.168\n",
      "\n"
     ]
    }
   ],
   "source": [
    "# Bước 8: Đánh giá mô hình\n",
    "for name, model in models.items():\n",
    "    pipeline = Pipeline([\n",
    "        ('preprocessor', preprocessor),\n",
    "        ('regressor', model)\n",
    "    ])\n",
    "    pipeline.fit(X_train, y_train)\n",
    "    y_pred = pipeline.predict(X_test)\n",
    "    \n",
    "    rmse = np.sqrt(mean_squared_error(y_test, y_pred))\n",
    "    r2 = r2_score(y_test, y_pred)\n",
    "    \n",
    "    print(f\"🔹 {name}\")\n",
    "    print(f\"   RMSE: {rmse:.2f}\")\n",
    "    print(f\"   R² Score: {r2:.3f}\\n\")\n"
   ]
  }
 ],
 "metadata": {
  "kernelspec": {
   "display_name": "Python 3",
   "language": "python",
   "name": "python3"
  },
  "language_info": {
   "codemirror_mode": {
    "name": "ipython",
    "version": 3
   },
   "file_extension": ".py",
   "mimetype": "text/x-python",
   "name": "python",
   "nbconvert_exporter": "python",
   "pygments_lexer": "ipython3",
   "version": "3.10.11"
  }
 },
 "nbformat": 4,
 "nbformat_minor": 5
}

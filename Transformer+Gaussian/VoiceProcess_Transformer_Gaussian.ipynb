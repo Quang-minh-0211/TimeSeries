{
  "nbformat": 4,
  "nbformat_minor": 0,
  "metadata": {
    "colab": {
      "provenance": [],
      "machine_shape": "hm",
      "gpuType": "L4"
    },
    "kernelspec": {
      "name": "python3",
      "display_name": "Python 3"
    },
    "language_info": {
      "name": "python"
    },
    "accelerator": "GPU"
  },
  "cells": [
    {
      "cell_type": "code",
      "execution_count": null,
      "metadata": {
        "colab": {
          "base_uri": "https://localhost:8080/"
        },
        "id": "HvYVBbLnC0-l",
        "outputId": "d312854f-7e20-4c25-9c37-8ea395cd2841"
      },
      "outputs": [
        {
          "output_type": "stream",
          "name": "stdout",
          "text": [
            "Cloning into 'free-spoken-digit-dataset'...\n",
            "remote: Enumerating objects: 4260, done.\u001b[K\n",
            "remote: Counting objects: 100% (48/48), done.\u001b[K\n",
            "remote: Compressing objects: 100% (40/40), done.\u001b[K\n",
            "remote: Total 4260 (delta 25), reused 8 (delta 8), pack-reused 4212 (from 1)\u001b[K\n",
            "Receiving objects: 100% (4260/4260), 30.38 MiB | 16.58 MiB/s, done.\n",
            "Resolving deltas: 100% (129/129), done.\n"
          ]
        }
      ],
      "source": [
        "# Clone repository của Free Spoken Digit Dataset\n",
        "!git clone https://github.com/Jakobovski/free-spoken-digit-dataset.git"
      ]
    },
    {
      "cell_type": "code",
      "source": [
        "# Liệt kê các file trong thư mục recordings\n",
        "!ls -la free-spoken-digit-dataset/recordings | head -10"
      ],
      "metadata": {
        "colab": {
          "base_uri": "https://localhost:8080/"
        },
        "id": "GajyDPhtC-6_",
        "outputId": "5760dba0-5dba-42ed-f4ab-e0f9244700f2"
      },
      "execution_count": null,
      "outputs": [
        {
          "output_type": "stream",
          "name": "stdout",
          "text": [
            "total 26824\n",
            "drwxr-xr-x 2 root root 118784 May 20 09:36 .\n",
            "drwxr-xr-x 6 root root   4096 May 20 09:36 ..\n",
            "-rw-r--r-- 1 root root   4812 May 20 09:36 0_george_0.wav\n",
            "-rw-r--r-- 1 root root  11960 May 20 09:36 0_george_10.wav\n",
            "-rw-r--r-- 1 root root   7366 May 20 09:36 0_george_11.wav\n",
            "-rw-r--r-- 1 root root   8144 May 20 09:36 0_george_12.wav\n",
            "-rw-r--r-- 1 root root   8742 May 20 09:36 0_george_13.wav\n",
            "-rw-r--r-- 1 root root   8652 May 20 09:36 0_george_14.wav\n",
            "-rw-r--r-- 1 root root   8416 May 20 09:36 0_george_15.wav\n"
          ]
        }
      ]
    },
    {
      "cell_type": "code",
      "source": [
        "# Cài đặt các thư viện cần thiết\n",
        "!pip install python_speech_features hmmlearn filterpy"
      ],
      "metadata": {
        "colab": {
          "base_uri": "https://localhost:8080/"
        },
        "id": "g7-5m391DCS2",
        "outputId": "bd09fa9e-6b3b-4755-f1b0-5f7dfc7e1cf7"
      },
      "execution_count": null,
      "outputs": [
        {
          "output_type": "stream",
          "name": "stdout",
          "text": [
            "Collecting python_speech_features\n",
            "  Downloading python_speech_features-0.6.tar.gz (5.6 kB)\n",
            "  Preparing metadata (setup.py) ... \u001b[?25l\u001b[?25hdone\n",
            "Collecting hmmlearn\n",
            "  Downloading hmmlearn-0.3.3-cp311-cp311-manylinux_2_17_x86_64.manylinux2014_x86_64.whl.metadata (3.0 kB)\n",
            "Collecting filterpy\n",
            "  Downloading filterpy-1.4.5.zip (177 kB)\n",
            "\u001b[2K     \u001b[90m━━━━━━━━━━━━━━━━━━━━━━━━━━━━━━━━━━━━━━\u001b[0m \u001b[32m178.0/178.0 kB\u001b[0m \u001b[31m13.4 MB/s\u001b[0m eta \u001b[36m0:00:00\u001b[0m\n",
            "\u001b[?25h  Preparing metadata (setup.py) ... \u001b[?25l\u001b[?25hdone\n",
            "Requirement already satisfied: numpy>=1.10 in /usr/local/lib/python3.11/dist-packages (from hmmlearn) (2.0.2)\n",
            "Requirement already satisfied: scikit-learn!=0.22.0,>=0.16 in /usr/local/lib/python3.11/dist-packages (from hmmlearn) (1.6.1)\n",
            "Requirement already satisfied: scipy>=0.19 in /usr/local/lib/python3.11/dist-packages (from hmmlearn) (1.15.3)\n",
            "Requirement already satisfied: matplotlib in /usr/local/lib/python3.11/dist-packages (from filterpy) (3.10.0)\n",
            "Requirement already satisfied: joblib>=1.2.0 in /usr/local/lib/python3.11/dist-packages (from scikit-learn!=0.22.0,>=0.16->hmmlearn) (1.5.0)\n",
            "Requirement already satisfied: threadpoolctl>=3.1.0 in /usr/local/lib/python3.11/dist-packages (from scikit-learn!=0.22.0,>=0.16->hmmlearn) (3.6.0)\n",
            "Requirement already satisfied: contourpy>=1.0.1 in /usr/local/lib/python3.11/dist-packages (from matplotlib->filterpy) (1.3.2)\n",
            "Requirement already satisfied: cycler>=0.10 in /usr/local/lib/python3.11/dist-packages (from matplotlib->filterpy) (0.12.1)\n",
            "Requirement already satisfied: fonttools>=4.22.0 in /usr/local/lib/python3.11/dist-packages (from matplotlib->filterpy) (4.58.0)\n",
            "Requirement already satisfied: kiwisolver>=1.3.1 in /usr/local/lib/python3.11/dist-packages (from matplotlib->filterpy) (1.4.8)\n",
            "Requirement already satisfied: packaging>=20.0 in /usr/local/lib/python3.11/dist-packages (from matplotlib->filterpy) (24.2)\n",
            "Requirement already satisfied: pillow>=8 in /usr/local/lib/python3.11/dist-packages (from matplotlib->filterpy) (11.2.1)\n",
            "Requirement already satisfied: pyparsing>=2.3.1 in /usr/local/lib/python3.11/dist-packages (from matplotlib->filterpy) (3.2.3)\n",
            "Requirement already satisfied: python-dateutil>=2.7 in /usr/local/lib/python3.11/dist-packages (from matplotlib->filterpy) (2.9.0.post0)\n",
            "Requirement already satisfied: six>=1.5 in /usr/local/lib/python3.11/dist-packages (from python-dateutil>=2.7->matplotlib->filterpy) (1.17.0)\n",
            "Downloading hmmlearn-0.3.3-cp311-cp311-manylinux_2_17_x86_64.manylinux2014_x86_64.whl (165 kB)\n",
            "\u001b[2K   \u001b[90m━━━━━━━━━━━━━━━━━━━━━━━━━━━━━━━━━━━━━━━━\u001b[0m \u001b[32m165.9/165.9 kB\u001b[0m \u001b[31m8.9 MB/s\u001b[0m eta \u001b[36m0:00:00\u001b[0m\n",
            "\u001b[?25hBuilding wheels for collected packages: python_speech_features, filterpy\n",
            "  Building wheel for python_speech_features (setup.py) ... \u001b[?25l\u001b[?25hdone\n",
            "  Created wheel for python_speech_features: filename=python_speech_features-0.6-py3-none-any.whl size=5868 sha256=34148e9196bf947b6b29280f0784c4774a2829c19b6bcbbc6575b6da60b922e2\n",
            "  Stored in directory: /root/.cache/pip/wheels/37/01/19/e6c69a32684ab7b2e3ea4985a571d810cf055c72600e7f9f17\n",
            "  Building wheel for filterpy (setup.py) ... \u001b[?25l\u001b[?25hdone\n",
            "  Created wheel for filterpy: filename=filterpy-1.4.5-py3-none-any.whl size=110460 sha256=efeefeffd2c17b02aab7e7d8270a146287e56264d01fb2e4e69199d8434d6cc2\n",
            "  Stored in directory: /root/.cache/pip/wheels/12/dc/3c/e12983eac132d00f82a20c6cbe7b42ce6e96190ef8fa2d15e1\n",
            "Successfully built python_speech_features filterpy\n",
            "Installing collected packages: python_speech_features, hmmlearn, filterpy\n",
            "Successfully installed filterpy-1.4.5 hmmlearn-0.3.3 python_speech_features-0.6\n"
          ]
        }
      ]
    },
    {
      "cell_type": "code",
      "source": [
        "data_path = \"./free-spoken-digit-dataset/recordings\""
      ],
      "metadata": {
        "id": "VNMfB2HYDEOI"
      },
      "execution_count": null,
      "outputs": []
    },
    {
      "cell_type": "code",
      "source": [
        "import torch\n",
        "import torch.nn as nn\n",
        "import torch.nn.functional as F\n",
        "import math\n",
        "import numpy as np\n",
        "from torch.utils.data import DataLoader, TensorDataset, Dataset\n",
        "import matplotlib.pyplot as plt\n",
        "import os\n",
        "import librosa\n",
        "import glob\n",
        "from sklearn.model_selection import train_test_split\n",
        "from tqdm import tqdm\n",
        "\n",
        "# Import mô hình từ file đã được cung cấp\n",
        "# Nếu mô hình đã được định nghĩa trong một file khác, bạn có thể import nó\n",
        "# from model import GaussianTransformerModel, PositionalEncoding, GaussianMixtureLayer\n",
        "\n",
        "# Nếu không, định nghĩa lại các class (copy từ đoạn code bạn đã cung cấp)\n",
        "class GaussianTransformerModel(nn.Module):\n",
        "    def __init__(self, input_dim, hidden_dim, num_heads, num_layers, num_classes, dropout=0.1):\n",
        "        super(GaussianTransformerModel, self).__init__()\n",
        "\n",
        "        # Embedding layer để chuyển đổi đặc trưng âm thanh\n",
        "        self.input_projection = nn.Linear(input_dim, hidden_dim)\n",
        "\n",
        "        # Positional encoding\n",
        "        self.pos_encoder = PositionalEncoding(hidden_dim, dropout)\n",
        "\n",
        "        # Transformer Encoder\n",
        "        encoder_layers = nn.TransformerEncoderLayer(hidden_dim, num_heads, hidden_dim*4, dropout)\n",
        "        self.transformer_encoder = nn.TransformerEncoder(encoder_layers, num_layers)\n",
        "\n",
        "        # Gaussian Mixture Model layer\n",
        "        self.gmm_layer = GaussianMixtureLayer(hidden_dim, num_components=5)\n",
        "\n",
        "        # Classification layer\n",
        "        self.classifier = nn.Linear(hidden_dim, num_classes)\n",
        "\n",
        "    def forward(self, x):\n",
        "        # x shape: [batch_size, sequence_length, input_dim]\n",
        "\n",
        "        # Project input to hidden dimension\n",
        "        x = self.input_projection(x)\n",
        "\n",
        "        # Add positional encoding\n",
        "        x = self.pos_encoder(x)\n",
        "\n",
        "        # Transformer encoding (transpose for transformer input)\n",
        "        x = x.permute(1, 0, 2)  # [sequence_length, batch_size, hidden_dim]\n",
        "        x = self.transformer_encoder(x)\n",
        "        x = x.permute(1, 0, 2)  # [batch_size, sequence_length, hidden_dim]\n",
        "\n",
        "        # Apply Gaussian Mixture Model - kết hợp transformer với gaussian\n",
        "        x, gmm_loss = self.gmm_layer(x)\n",
        "\n",
        "        # Global pooling\n",
        "        x = torch.mean(x, dim=1)\n",
        "\n",
        "        # Classification\n",
        "        logits = self.classifier(x)\n",
        "\n",
        "        return logits, gmm_loss\n",
        "\n",
        "# Lớp Positional Encoding\n",
        "class PositionalEncoding(nn.Module):\n",
        "    def __init__(self, d_model, dropout=0.1, max_len=5000):\n",
        "        super(PositionalEncoding, self).__init__()\n",
        "        self.dropout = nn.Dropout(p=dropout)\n",
        "\n",
        "        pe = torch.zeros(max_len, d_model)\n",
        "        position = torch.arange(0, max_len, dtype=torch.float).unsqueeze(1)\n",
        "        div_term = torch.exp(torch.arange(0, d_model, 2).float() * (-math.log(10000.0) / d_model))\n",
        "\n",
        "        pe[:, 0::2] = torch.sin(position * div_term)\n",
        "        pe[:, 1::2] = torch.cos(position * div_term)\n",
        "        pe = pe.unsqueeze(0).transpose(0, 1)\n",
        "\n",
        "        self.register_buffer('pe', pe)\n",
        "\n",
        "    def forward(self, x):\n",
        "        x = x + self.pe[:x.size(0), :]\n",
        "        return self.dropout(x)\n",
        "\n",
        "# Lớp Gaussian Mixture Model\n",
        "class GaussianMixtureLayer(nn.Module):\n",
        "    def __init__(self, input_dim, num_components=5):\n",
        "        super(GaussianMixtureLayer, self).__init__()\n",
        "\n",
        "        self.num_components = num_components\n",
        "        self.input_dim = input_dim\n",
        "\n",
        "        # Parameters for GMM\n",
        "        self.mu = nn.Parameter(torch.randn(num_components, input_dim))\n",
        "        self.logvar = nn.Parameter(torch.zeros(num_components, input_dim))\n",
        "        self.pi = nn.Parameter(torch.ones(num_components) / num_components)\n",
        "\n",
        "    def forward(self, x):\n",
        "        # x shape: [batch_size, sequence_length, input_dim]\n",
        "        batch_size, seq_len, _ = x.shape\n",
        "\n",
        "        # Reshape x to [batch_size * seq_len, input_dim]\n",
        "        x_flat = x.reshape(-1, self.input_dim)\n",
        "\n",
        "        # Calculate GMM probabilities\n",
        "        z_scores = []\n",
        "        log_probs = []\n",
        "\n",
        "        for k in range(self.num_components):\n",
        "            # Calculate z-score (normalized distance)\n",
        "            z_k = (x_flat - self.mu[k]) / (torch.exp(self.logvar[k]) + 1e-8).sqrt()\n",
        "            z_scores.append(z_k)\n",
        "\n",
        "            # Calculate log probability\n",
        "            log_prob_k = -0.5 * (z_k ** 2).sum(dim=1) - 0.5 * self.logvar[k].sum() - 0.5 * self.input_dim * np.log(2 * np.pi)\n",
        "            log_probs.append(log_prob_k)\n",
        "\n",
        "        # Stack and add log pi\n",
        "        log_probs = torch.stack(log_probs, dim=1)  # [batch_size * seq_len, num_components]\n",
        "        log_probs = log_probs + torch.log_softmax(self.pi, dim=0)\n",
        "\n",
        "        # Normalize to get component weights\n",
        "        component_probs = F.softmax(log_probs, dim=1)  # [batch_size * seq_len, num_components]\n",
        "\n",
        "        # Weighted sum for the enhanced features\n",
        "        enhanced_features = torch.zeros_like(x_flat)\n",
        "        for k in range(self.num_components):\n",
        "            enhanced_features += component_probs[:, k:k+1] * (x_flat - z_scores[k] * torch.exp(self.logvar[k] / 2))\n",
        "\n",
        "        # Reshape back to original dimensions\n",
        "        enhanced_features = enhanced_features.reshape(batch_size, seq_len, self.input_dim)\n",
        "\n",
        "        # Calculate GMM loss (negative log likelihood)\n",
        "        gmm_loss = -torch.logsumexp(log_probs, dim=1).mean()\n",
        "\n",
        "        return enhanced_features, gmm_loss\n",
        "\n",
        "# Hàm train model (sử dụng từ code bạn đã cung cấp)\n",
        "def train_model(model, train_loader, val_loader, num_epochs=50, learning_rate=0.001):\n",
        "    criterion = nn.CrossEntropyLoss()\n",
        "    optimizer = torch.optim.Adam(model.parameters(), lr=learning_rate)\n",
        "\n",
        "    # Lập lịch giảm learning rate\n",
        "    scheduler = torch.optim.lr_scheduler.ReduceLROnPlateau(\n",
        "        optimizer, mode='min', factor=0.5, patience=5, verbose=True\n",
        "    )\n",
        "\n",
        "    device = next(model.parameters()).device\n",
        "    best_val_acc = 0.0\n",
        "\n",
        "    train_losses = []\n",
        "    val_losses = []\n",
        "    train_accs = []\n",
        "    val_accs = []\n",
        "\n",
        "    for epoch in range(num_epochs):\n",
        "        # Training\n",
        "        model.train()\n",
        "        train_loss = 0.0\n",
        "        train_correct = 0\n",
        "        train_total = 0\n",
        "\n",
        "        progress_bar = tqdm(train_loader, desc=f\"Epoch {epoch+1}/{num_epochs} [Train]\")\n",
        "        for inputs, targets in progress_bar:\n",
        "            inputs, targets = inputs.to(device), targets.to(device)\n",
        "            optimizer.zero_grad()\n",
        "\n",
        "            # Forward pass\n",
        "            logits, gmm_loss = model(inputs)\n",
        "            ce_loss = criterion(logits, targets)\n",
        "\n",
        "            # Combine losses - cân bằng giữa cross-entropy loss và GMM loss\n",
        "            loss = ce_loss + 0.1 * gmm_loss\n",
        "\n",
        "            # Backward pass\n",
        "            loss.backward()\n",
        "            optimizer.step()\n",
        "\n",
        "            # Thống kê\n",
        "            train_loss += loss.item()\n",
        "            _, predicted = torch.max(logits.data, 1)\n",
        "            train_total += targets.size(0)\n",
        "            train_correct += (predicted == targets).sum().item()\n",
        "\n",
        "            # Cập nhật progress bar\n",
        "            progress_bar.set_postfix({\n",
        "                'loss': f\"{loss.item():.4f}\",\n",
        "                'acc': f\"{100.0 * train_correct / train_total:.2f}%\"\n",
        "            })\n",
        "\n",
        "        train_acc = 100.0 * train_correct / train_total\n",
        "        avg_train_loss = train_loss/len(train_loader)\n",
        "        train_losses.append(avg_train_loss)\n",
        "        train_accs.append(train_acc)\n",
        "\n",
        "        # Validation\n",
        "        model.eval()\n",
        "        val_loss = 0.0\n",
        "        val_correct = 0\n",
        "        val_total = 0\n",
        "\n",
        "        with torch.no_grad():\n",
        "            progress_bar = tqdm(val_loader, desc=f\"Epoch {epoch+1}/{num_epochs} [Val]\")\n",
        "            for inputs, targets in progress_bar:\n",
        "                inputs, targets = inputs.to(device), targets.to(device)\n",
        "                logits, gmm_loss = model(inputs)\n",
        "                ce_loss = criterion(logits, targets)\n",
        "                loss = ce_loss + 0.1 * gmm_loss\n",
        "\n",
        "                val_loss += loss.item()\n",
        "                _, predicted = torch.max(logits.data, 1)\n",
        "                val_total += targets.size(0)\n",
        "                val_correct += (predicted == targets).sum().item()\n",
        "\n",
        "                # Cập nhật progress bar\n",
        "                progress_bar.set_postfix({\n",
        "                    'loss': f\"{loss.item():.4f}\",\n",
        "                    'acc': f\"{100.0 * val_correct / val_total:.2f}%\"\n",
        "                })\n",
        "\n",
        "        val_acc = 100.0 * val_correct / val_total\n",
        "        avg_val_loss = val_loss/len(val_loader)\n",
        "        val_losses.append(avg_val_loss)\n",
        "        val_accs.append(val_acc)\n",
        "\n",
        "        # Lưu mô hình tốt nhất\n",
        "        if val_acc > best_val_acc:\n",
        "            best_val_acc = val_acc\n",
        "            torch.save(model.state_dict(), 'best_gaussian_transformer_model.pth')\n",
        "            print(f\"Checkpoint saved: Validation accuracy improved to {val_acc:.2f}%\")\n",
        "\n",
        "        # Cập nhật learning rate\n",
        "        scheduler.step(avg_val_loss)\n",
        "\n",
        "        print(f'Epoch [{epoch+1}/{num_epochs}], Train Loss: {avg_train_loss:.4f}, Train Acc: {train_acc:.2f}%, Val Loss: {avg_val_loss:.4f}, Val Acc: {val_acc:.2f}%')\n",
        "\n",
        "    # Vẽ biểu đồ loss và accuracy\n",
        "    plt.figure(figsize=(12, 5))\n",
        "    plt.subplot(1, 2, 1)\n",
        "    plt.plot(train_losses, label='Train Loss')\n",
        "    plt.plot(val_losses, label='Val Loss')\n",
        "    plt.xlabel('Epoch')\n",
        "    plt.ylabel('Loss')\n",
        "    plt.legend()\n",
        "\n",
        "    plt.subplot(1, 2, 2)\n",
        "    plt.plot(train_accs, label='Train Acc')\n",
        "    plt.plot(val_accs, label='Val Acc')\n",
        "    plt.xlabel('Epoch')\n",
        "    plt.ylabel('Accuracy (%)')\n",
        "    plt.legend()\n",
        "\n",
        "    plt.tight_layout()\n",
        "    plt.savefig('training_curves.png')\n",
        "    plt.show()\n",
        "\n",
        "    return model\n",
        "\n",
        "# Định nghĩa lớp Dataset cho FSDD\n",
        "class SpokenDigitDataset(Dataset):\n",
        "    def __init__(self, audio_files, labels, feature_type='mfcc', n_mfcc=20, max_len=50):\n",
        "        self.audio_files = audio_files\n",
        "        self.labels = labels\n",
        "        self.feature_type = feature_type\n",
        "        self.n_mfcc = n_mfcc\n",
        "        self.max_len = max_len\n",
        "\n",
        "    def __len__(self):\n",
        "        return len(self.audio_files)\n",
        "\n",
        "    def __getitem__(self, idx):\n",
        "        audio_file = self.audio_files[idx]\n",
        "        label = self.labels[idx]\n",
        "\n",
        "        # Đọc file âm thanh\n",
        "        y, sr = librosa.load(audio_file, sr=None)\n",
        "\n",
        "        # Trích xuất đặc trưng\n",
        "        if self.feature_type == 'mfcc':\n",
        "            features = librosa.feature.mfcc(y=y, sr=sr, n_mfcc=self.n_mfcc)\n",
        "        elif self.feature_type == 'melspectrogram':\n",
        "            features = librosa.feature.melspectrogram(y=y, sr=sr)\n",
        "            features = librosa.power_to_db(features, ref=np.max)\n",
        "        else:\n",
        "            raise ValueError(f\"Feature type {self.feature_type} not supported\")\n",
        "\n",
        "        # Chuyển đổi shape từ (n_features, time) sang (time, n_features)\n",
        "        features = features.T\n",
        "\n",
        "        # Pad hoặc cắt để có độ dài cố định\n",
        "        if features.shape[0] < self.max_len:\n",
        "            # Pad zeros nếu quá ngắn\n",
        "            padding = np.zeros((self.max_len - features.shape[0], features.shape[1]))\n",
        "            features = np.vstack((features, padding))\n",
        "        else:\n",
        "            # Cắt nếu quá dài\n",
        "            features = features[:self.max_len, :]\n",
        "\n",
        "        return torch.FloatTensor(features), torch.LongTensor([label])[0]\n",
        "\n",
        "# Hàm để tải dữ liệu FSDD\n",
        "def load_fsdd_data(data_path, feature_type='mfcc', n_mfcc=20, max_len=50, test_size=0.2, batch_size=32):\n",
        "    \"\"\"\n",
        "    Tải dữ liệu từ Free Spoken Digit Dataset\n",
        "\n",
        "    Args:\n",
        "        data_path: Đường dẫn đến thư mục recordings\n",
        "        feature_type: Loại đặc trưng để trích xuất ('mfcc' hoặc 'melspectrogram')\n",
        "        n_mfcc: Số hệ số MFCC (chỉ dùng khi feature_type='mfcc')\n",
        "        max_len: Độ dài tối đa của chuỗi đặc trưng\n",
        "        test_size: Tỉ lệ dữ liệu dành cho validation\n",
        "        batch_size: Kích thước batch\n",
        "\n",
        "    Returns:\n",
        "        train_loader, val_loader, input_dim, num_classes\n",
        "    \"\"\"\n",
        "    # Tìm tất cả các file .wav trong thư mục\n",
        "    audio_files = glob.glob(os.path.join(data_path, \"*.wav\"))\n",
        "\n",
        "    # Trích xuất nhãn từ tên file\n",
        "    # Quy ước đặt tên: {digit}_{speaker}_{utterance_number}.wav\n",
        "    labels = [int(os.path.basename(f).split('_')[0]) for f in audio_files]\n",
        "\n",
        "    # Chia tập train/validation\n",
        "    X_train, X_val, y_train, y_val = train_test_split(\n",
        "        audio_files, labels, test_size=test_size, random_state=42, stratify=labels\n",
        "    )\n",
        "\n",
        "    # Xác định input_dim dựa trên feature_type\n",
        "    if feature_type == 'mfcc':\n",
        "        input_dim = n_mfcc\n",
        "    elif feature_type == 'melspectrogram':\n",
        "        # Lấy một mẫu để xác định kích thước\n",
        "        y, sr = librosa.load(audio_files[0], sr=None)\n",
        "        mel_spec = librosa.feature.melspectrogram(y=y, sr=sr)\n",
        "        input_dim = mel_spec.shape[0]\n",
        "    else:\n",
        "        raise ValueError(f\"Feature type {feature_type} not supported\")\n",
        "\n",
        "    # Số lượng class (0-9)\n",
        "    num_classes = 10\n",
        "\n",
        "    # Tạo dataset\n",
        "    train_dataset = SpokenDigitDataset(X_train, y_train, feature_type, n_mfcc, max_len)\n",
        "    val_dataset = SpokenDigitDataset(X_val, y_val, feature_type, n_mfcc, max_len)\n",
        "\n",
        "    # Tạo DataLoader\n",
        "    train_loader = DataLoader(train_dataset, batch_size=batch_size, shuffle=True)\n",
        "    val_loader = DataLoader(val_dataset, batch_size=batch_size)\n",
        "\n",
        "    return train_loader, val_loader, input_dim, num_classes\n",
        "\n",
        "# Hàm dự đoán trên dữ liệu mới\n",
        "def predict(model, input_data):\n",
        "    model.eval()\n",
        "    with torch.no_grad():\n",
        "        logits, _ = model(input_data)\n",
        "        probabilities = F.softmax(logits, dim=1)\n",
        "        _, predicted_classes = torch.max(logits, 1)\n",
        "    return predicted_classes, probabilities\n",
        "\n",
        "# Hàm main để chạy toàn bộ quá trình\n",
        "def main():\n",
        "    # Thiết lập seed cho khả năng tái tạo kết quả\n",
        "    torch.manual_seed(42)\n",
        "    np.random.seed(42)\n",
        "\n",
        "    # Thiết lập device (GPU nếu có)\n",
        "    device = torch.device('cuda' if torch.cuda.is_available() else 'cpu')\n",
        "    print(f\"Using device: {device}\")\n",
        "\n",
        "    # Đường dẫn dữ liệu\n",
        "    data_path = \"./free-spoken-digit-dataset/recordings\"\n",
        "\n",
        "    # Tải dữ liệu FSDD\n",
        "    print(\"Đang tải và xử lý dữ liệu âm thanh...\")\n",
        "    train_loader, val_loader, input_dim, num_classes = load_fsdd_data(\n",
        "        data_path,\n",
        "        feature_type='mfcc',\n",
        "        n_mfcc=20,\n",
        "        max_len=50,\n",
        "        test_size=0.2,\n",
        "        batch_size=32\n",
        "    )\n",
        "\n",
        "    # Tạo mô hình\n",
        "    print(\"Khởi tạo mô hình...\")\n",
        "    model = GaussianTransformerModel(\n",
        "        input_dim=input_dim,\n",
        "        hidden_dim=128,\n",
        "        num_heads=4,\n",
        "        num_layers=2,\n",
        "        num_classes=num_classes,\n",
        "        dropout=0.1\n",
        "    ).to(device)\n",
        "\n",
        "    # In thông tin mô hình\n",
        "    print(f\"\\nTóm tắt mô hình:\")\n",
        "    print(f\"- Input dimension: {input_dim}\")\n",
        "    print(f\"- Hidden dimension: 128\")\n",
        "    print(f\"- Number of attention heads: 4\")\n",
        "    print(f\"- Number of transformer layers: 2\")\n",
        "    print(f\"- Number of classes: {num_classes}\")\n",
        "    print(f\"- Total parameters: {sum(p.numel() for p in model.parameters())}\")\n",
        "\n",
        "    # Huấn luyện mô hình\n",
        "    print(\"\\nBắt đầu huấn luyện mô hình...\")\n",
        "    model = train_model(\n",
        "        model=model,\n",
        "        train_loader=train_loader,\n",
        "        val_loader=val_loader,\n",
        "        num_epochs=30,\n",
        "        learning_rate=0.001\n",
        "    )\n",
        "\n",
        "    # Tải mô hình tốt nhất\n",
        "    print(\"\\nTải mô hình tốt nhất...\")\n",
        "    model.load_state_dict(torch.load('best_gaussian_transformer_model.pth'))\n",
        "\n",
        "    # Đánh giá trên tập validation\n",
        "    print(\"\\nĐánh giá mô hình trên tập validation...\")\n",
        "    model.eval()\n",
        "    val_correct = 0\n",
        "    val_total = 0\n",
        "    confusion_matrix = torch.zeros(num_classes, num_classes)\n",
        "\n",
        "    with torch.no_grad():\n",
        "        for inputs, targets in val_loader:\n",
        "            inputs, targets = inputs.to(device), targets.to(device)\n",
        "            logits, _ = model(inputs)\n",
        "            _, predicted = torch.max(logits.data, 1)\n",
        "\n",
        "            val_total += targets.size(0)\n",
        "            val_correct += (predicted == targets).sum().item()\n",
        "\n",
        "            # Cập nhật confusion matrix\n",
        "            for t, p in zip(targets.view(-1), predicted.view(-1)):\n",
        "                confusion_matrix[t.long(), p.long()] += 1\n",
        "\n",
        "    val_acc = 100.0 * val_correct / val_total\n",
        "    print(f\"Accuracy trên tập validation: {val_acc:.2f}%\")\n",
        "\n",
        "    # Vẽ confusion matrix\n",
        "    plt.figure(figsize=(10, 8))\n",
        "    plt.imshow(confusion_matrix, cmap='Blues')\n",
        "    plt.colorbar()\n",
        "\n",
        "    # Thêm labels\n",
        "    classes = [str(i) for i in range(num_classes)]\n",
        "    tick_marks = np.arange(num_classes)\n",
        "    plt.xticks(tick_marks, classes)\n",
        "    plt.yticks(tick_marks, classes)\n",
        "    plt.xlabel('Dự đoán')\n",
        "    plt.ylabel('Thực tế')\n",
        "    plt.title('Confusion Matrix')\n",
        "\n",
        "    # Thêm text vào mỗi ô\n",
        "    thresh = confusion_matrix.max() / 2.\n",
        "    for i in range(confusion_matrix.shape[0]):\n",
        "        for j in range(confusion_matrix.shape[1]):\n",
        "            plt.text(j, i, int(confusion_matrix[i, j]),\n",
        "                     horizontalalignment=\"center\",\n",
        "                     color=\"white\" if confusion_matrix[i, j] > thresh else \"black\")\n",
        "\n",
        "    plt.tight_layout()\n",
        "    plt.savefig('confusion_matrix.png')\n",
        "\n",
        "    print(\"\\nQuá trình huấn luyện và đánh giá đã hoàn tất!\")\n",
        "    print(\"Confusion matrix đã được lưu vào file 'confusion_matrix.png'\")\n",
        "\n",
        "# Chạy chương trình chính khi thực thi file này\n",
        "if __name__ == \"__main__\":\n",
        "    main()"
      ],
      "metadata": {
        "colab": {
          "base_uri": "https://localhost:8080/",
          "height": 1000
        },
        "id": "Z1xNLeSIH8A0",
        "outputId": "a35a9d5b-9477-4c32-c04f-4973e5f67b2b"
      },
      "execution_count": null,
      "outputs": [
        {
          "output_type": "stream",
          "name": "stderr",
          "text": [
            "/usr/local/lib/python3.11/dist-packages/torch/nn/modules/transformer.py:385: UserWarning: enable_nested_tensor is True, but self.use_nested_tensor is False because encoder_layer.self_attn.batch_first was not True(use batch_first for better inference performance)\n",
            "  warnings.warn(\n",
            "/usr/local/lib/python3.11/dist-packages/torch/optim/lr_scheduler.py:62: UserWarning: The verbose parameter is deprecated. Please use get_last_lr() to access the learning rate.\n",
            "  warnings.warn(\n"
          ]
        },
        {
          "output_type": "stream",
          "name": "stdout",
          "text": [
            "Using device: cuda\n",
            "Đang tải và xử lý dữ liệu âm thanh...\n",
            "Khởi tạo mô hình...\n",
            "\n",
            "Tóm tắt mô hình:\n",
            "- Input dimension: 20\n",
            "- Hidden dimension: 128\n",
            "- Number of attention heads: 4\n",
            "- Number of transformer layers: 2\n",
            "- Number of classes: 10\n",
            "- Total parameters: 401807\n",
            "\n",
            "Bắt đầu huấn luyện mô hình...\n"
          ]
        },
        {
          "output_type": "stream",
          "name": "stderr",
          "text": [
            "\rEpoch 1/30 [Train]:   0%|          | 0/75 [00:00<?, ?it/s]/usr/local/lib/python3.11/dist-packages/librosa/core/spectrum.py:266: UserWarning: n_fft=2048 is too large for input signal of length=1475\n",
            "  warnings.warn(\n",
            "Epoch 1/30 [Train]:   3%|▎         | 2/75 [00:11<06:00,  4.94s/it, loss=21.9861, acc=9.38%]/usr/local/lib/python3.11/dist-packages/librosa/core/spectrum.py:266: UserWarning: n_fft=2048 is too large for input signal of length=1903\n",
            "  warnings.warn(\n",
            "/usr/local/lib/python3.11/dist-packages/librosa/core/spectrum.py:266: UserWarning: n_fft=2048 is too large for input signal of length=1884\n",
            "  warnings.warn(\n",
            "/usr/local/lib/python3.11/dist-packages/librosa/core/spectrum.py:266: UserWarning: n_fft=2048 is too large for input signal of length=1302\n",
            "  warnings.warn(\n",
            "Epoch 1/30 [Train]:   4%|▍         | 3/75 [00:12<03:17,  2.74s/it, loss=18.8094, acc=6.25%]/usr/local/lib/python3.11/dist-packages/librosa/core/spectrum.py:266: UserWarning: n_fft=2048 is too large for input signal of length=1541\n",
            "  warnings.warn(\n",
            "/usr/local/lib/python3.11/dist-packages/librosa/core/spectrum.py:266: UserWarning: n_fft=2048 is too large for input signal of length=2044\n",
            "  warnings.warn(\n",
            "Epoch 1/30 [Train]:   7%|▋         | 5/75 [00:12<01:20,  1.14s/it, loss=15.7714, acc=8.12%]/usr/local/lib/python3.11/dist-packages/librosa/core/spectrum.py:266: UserWarning: n_fft=2048 is too large for input signal of length=2005\n",
            "  warnings.warn(\n",
            "/usr/local/lib/python3.11/dist-packages/librosa/core/spectrum.py:266: UserWarning: n_fft=2048 is too large for input signal of length=1149\n",
            "  warnings.warn(\n",
            "Epoch 1/30 [Train]:   8%|▊         | 6/75 [00:12<00:55,  1.25it/s, loss=15.1635, acc=8.85%]/usr/local/lib/python3.11/dist-packages/librosa/core/spectrum.py:266: UserWarning: n_fft=2048 is too large for input signal of length=1737\n",
            "  warnings.warn(\n",
            "/usr/local/lib/python3.11/dist-packages/librosa/core/spectrum.py:266: UserWarning: n_fft=2048 is too large for input signal of length=1891\n",
            "  warnings.warn(\n",
            "Epoch 1/30 [Train]:   9%|▉         | 7/75 [00:12<00:39,  1.73it/s, loss=14.9577, acc=8.93%]/usr/local/lib/python3.11/dist-packages/librosa/core/spectrum.py:266: UserWarning: n_fft=2048 is too large for input signal of length=1610\n",
            "  warnings.warn(\n",
            "Epoch 1/30 [Train]:  11%|█         | 8/75 [00:12<00:29,  2.30it/s, loss=14.7765, acc=9.77%]/usr/local/lib/python3.11/dist-packages/librosa/core/spectrum.py:266: UserWarning: n_fft=2048 is too large for input signal of length=1973\n",
            "  warnings.warn(\n",
            "Epoch 1/30 [Train]:  12%|█▏        | 9/75 [00:12<00:22,  2.95it/s, loss=14.7337, acc=9.72%]/usr/local/lib/python3.11/dist-packages/librosa/core/spectrum.py:266: UserWarning: n_fft=2048 is too large for input signal of length=1896\n",
            "  warnings.warn(\n",
            "/usr/local/lib/python3.11/dist-packages/librosa/core/spectrum.py:266: UserWarning: n_fft=2048 is too large for input signal of length=1876\n",
            "  warnings.warn(\n",
            "/usr/local/lib/python3.11/dist-packages/librosa/core/spectrum.py:266: UserWarning: n_fft=2048 is too large for input signal of length=1296\n",
            "  warnings.warn(\n",
            "Epoch 1/30 [Train]:  13%|█▎        | 10/75 [00:12<00:17,  3.67it/s, loss=14.6864, acc=10.62%]/usr/local/lib/python3.11/dist-packages/librosa/core/spectrum.py:266: UserWarning: n_fft=2048 is too large for input signal of length=1913\n",
            "  warnings.warn(\n",
            "/usr/local/lib/python3.11/dist-packages/librosa/core/spectrum.py:266: UserWarning: n_fft=2048 is too large for input signal of length=1805\n",
            "  warnings.warn(\n",
            "/usr/local/lib/python3.11/dist-packages/librosa/core/spectrum.py:266: UserWarning: n_fft=2048 is too large for input signal of length=1713\n",
            "  warnings.warn(\n",
            "Epoch 1/30 [Train]:  15%|█▍        | 11/75 [00:13<00:14,  4.34it/s, loss=14.6938, acc=10.23%]/usr/local/lib/python3.11/dist-packages/librosa/core/spectrum.py:266: UserWarning: n_fft=2048 is too large for input signal of length=2036\n",
            "  warnings.warn(\n",
            "Epoch 1/30 [Train]:  16%|█▌        | 12/75 [00:13<00:12,  5.01it/s, loss=14.5776, acc=10.94%]/usr/local/lib/python3.11/dist-packages/librosa/core/spectrum.py:266: UserWarning: n_fft=2048 is too large for input signal of length=1538\n",
            "  warnings.warn(\n",
            "/usr/local/lib/python3.11/dist-packages/librosa/core/spectrum.py:266: UserWarning: n_fft=2048 is too large for input signal of length=2027\n",
            "  warnings.warn(\n",
            "Epoch 1/30 [Train]:  17%|█▋        | 13/75 [00:13<00:11,  5.60it/s, loss=14.6814, acc=11.06%]/usr/local/lib/python3.11/dist-packages/librosa/core/spectrum.py:266: UserWarning: n_fft=2048 is too large for input signal of length=1933\n",
            "  warnings.warn(\n",
            "/usr/local/lib/python3.11/dist-packages/librosa/core/spectrum.py:266: UserWarning: n_fft=2048 is too large for input signal of length=1403\n",
            "  warnings.warn(\n",
            "Epoch 1/30 [Train]:  19%|█▊        | 14/75 [00:13<00:10,  6.03it/s, loss=14.6275, acc=10.94%]/usr/local/lib/python3.11/dist-packages/librosa/core/spectrum.py:266: UserWarning: n_fft=2048 is too large for input signal of length=1932\n",
            "  warnings.warn(\n",
            "/usr/local/lib/python3.11/dist-packages/librosa/core/spectrum.py:266: UserWarning: n_fft=2048 is too large for input signal of length=1870\n",
            "  warnings.warn(\n",
            "Epoch 1/30 [Train]:  20%|██        | 15/75 [00:13<00:09,  6.42it/s, loss=14.6222, acc=10.62%]/usr/local/lib/python3.11/dist-packages/librosa/core/spectrum.py:266: UserWarning: n_fft=2048 is too large for input signal of length=1919\n",
            "  warnings.warn(\n",
            "/usr/local/lib/python3.11/dist-packages/librosa/core/spectrum.py:266: UserWarning: n_fft=2048 is too large for input signal of length=1968\n",
            "  warnings.warn(\n",
            "Epoch 1/30 [Train]:  21%|██▏       | 16/75 [00:13<00:08,  6.79it/s, loss=14.6012, acc=10.16%]/usr/local/lib/python3.11/dist-packages/librosa/core/spectrum.py:266: UserWarning: n_fft=2048 is too large for input signal of length=2034\n",
            "  warnings.warn(\n",
            "/usr/local/lib/python3.11/dist-packages/librosa/core/spectrum.py:266: UserWarning: n_fft=2048 is too large for input signal of length=1778\n",
            "  warnings.warn(\n",
            "/usr/local/lib/python3.11/dist-packages/librosa/core/spectrum.py:266: UserWarning: n_fft=2048 is too large for input signal of length=1995\n",
            "  warnings.warn(\n",
            "/usr/local/lib/python3.11/dist-packages/librosa/core/spectrum.py:266: UserWarning: n_fft=2048 is too large for input signal of length=1843\n",
            "  warnings.warn(\n",
            "Epoch 1/30 [Train]:  23%|██▎       | 17/75 [00:13<00:08,  6.95it/s, loss=14.5495, acc=9.93%]/usr/local/lib/python3.11/dist-packages/librosa/core/spectrum.py:266: UserWarning: n_fft=2048 is too large for input signal of length=1640\n",
            "  warnings.warn(\n",
            "Epoch 1/30 [Train]:  24%|██▍       | 18/75 [00:14<00:07,  7.22it/s, loss=14.5532, acc=9.90%]/usr/local/lib/python3.11/dist-packages/librosa/core/spectrum.py:266: UserWarning: n_fft=2048 is too large for input signal of length=1858\n",
            "  warnings.warn(\n",
            "Epoch 1/30 [Train]:  25%|██▌       | 19/75 [00:14<00:07,  7.43it/s, loss=14.5199, acc=10.20%]/usr/local/lib/python3.11/dist-packages/librosa/core/spectrum.py:266: UserWarning: n_fft=2048 is too large for input signal of length=1914\n",
            "  warnings.warn(\n",
            "/usr/local/lib/python3.11/dist-packages/librosa/core/spectrum.py:266: UserWarning: n_fft=2048 is too large for input signal of length=1962\n",
            "  warnings.warn(\n",
            "Epoch 1/30 [Train]:  28%|██▊       | 21/75 [00:14<00:07,  7.49it/s, loss=14.5006, acc=9.97%]/usr/local/lib/python3.11/dist-packages/librosa/core/spectrum.py:266: UserWarning: n_fft=2048 is too large for input signal of length=1983\n",
            "  warnings.warn(\n",
            "/usr/local/lib/python3.11/dist-packages/librosa/core/spectrum.py:266: UserWarning: n_fft=2048 is too large for input signal of length=1911\n",
            "  warnings.warn(\n",
            "/usr/local/lib/python3.11/dist-packages/librosa/core/spectrum.py:266: UserWarning: n_fft=2048 is too large for input signal of length=1832\n",
            "  warnings.warn(\n",
            "Epoch 1/30 [Train]:  31%|███       | 23/75 [00:14<00:07,  6.95it/s, loss=14.5198, acc=9.78%]/usr/local/lib/python3.11/dist-packages/librosa/core/spectrum.py:266: UserWarning: n_fft=2048 is too large for input signal of length=1565\n",
            "  warnings.warn(\n",
            "/usr/local/lib/python3.11/dist-packages/librosa/core/spectrum.py:266: UserWarning: n_fft=2048 is too large for input signal of length=1892\n",
            "  warnings.warn(\n",
            "Epoch 1/30 [Train]:  35%|███▍      | 26/75 [00:15<00:06,  7.14it/s, loss=14.4328, acc=9.74%]/usr/local/lib/python3.11/dist-packages/librosa/core/spectrum.py:266: UserWarning: n_fft=2048 is too large for input signal of length=2043\n",
            "  warnings.warn(\n",
            "Epoch 1/30 [Train]:  36%|███▌      | 27/75 [00:15<00:06,  7.27it/s, loss=14.4260, acc=9.84%]/usr/local/lib/python3.11/dist-packages/librosa/core/spectrum.py:266: UserWarning: n_fft=2048 is too large for input signal of length=1579\n",
            "  warnings.warn(\n",
            "/usr/local/lib/python3.11/dist-packages/librosa/core/spectrum.py:266: UserWarning: n_fft=2048 is too large for input signal of length=2035\n",
            "  warnings.warn(\n",
            "/usr/local/lib/python3.11/dist-packages/librosa/core/spectrum.py:266: UserWarning: n_fft=2048 is too large for input signal of length=1886\n",
            "  warnings.warn(\n",
            "Epoch 1/30 [Train]:  37%|███▋      | 28/75 [00:15<00:06,  7.40it/s, loss=14.4259, acc=10.16%]/usr/local/lib/python3.11/dist-packages/librosa/core/spectrum.py:266: UserWarning: n_fft=2048 is too large for input signal of length=1433\n",
            "  warnings.warn(\n",
            "/usr/local/lib/python3.11/dist-packages/librosa/core/spectrum.py:266: UserWarning: n_fft=2048 is too large for input signal of length=1601\n",
            "  warnings.warn(\n",
            "Epoch 1/30 [Train]:  39%|███▊      | 29/75 [00:15<00:06,  7.39it/s, loss=14.4186, acc=10.13%]/usr/local/lib/python3.11/dist-packages/librosa/core/spectrum.py:266: UserWarning: n_fft=2048 is too large for input signal of length=1720\n",
            "  warnings.warn(\n",
            "/usr/local/lib/python3.11/dist-packages/librosa/core/spectrum.py:266: UserWarning: n_fft=2048 is too large for input signal of length=1837\n",
            "  warnings.warn(\n",
            "/usr/local/lib/python3.11/dist-packages/librosa/core/spectrum.py:266: UserWarning: n_fft=2048 is too large for input signal of length=1807\n",
            "  warnings.warn(\n",
            "Epoch 1/30 [Train]:  40%|████      | 30/75 [00:15<00:05,  7.50it/s, loss=14.3684, acc=10.21%]/usr/local/lib/python3.11/dist-packages/librosa/core/spectrum.py:266: UserWarning: n_fft=2048 is too large for input signal of length=2012\n",
            "  warnings.warn(\n",
            "Epoch 1/30 [Train]:  41%|████▏     | 31/75 [00:15<00:05,  7.51it/s, loss=14.4095, acc=9.88%]/usr/local/lib/python3.11/dist-packages/librosa/core/spectrum.py:266: UserWarning: n_fft=2048 is too large for input signal of length=1813\n",
            "  warnings.warn(\n",
            "Epoch 1/30 [Train]:  43%|████▎     | 32/75 [00:15<00:05,  7.49it/s, loss=14.3503, acc=9.77%]/usr/local/lib/python3.11/dist-packages/librosa/core/spectrum.py:266: UserWarning: n_fft=2048 is too large for input signal of length=2033\n",
            "  warnings.warn(\n",
            "Epoch 1/30 [Train]:  44%|████▍     | 33/75 [00:16<00:05,  7.61it/s, loss=14.3612, acc=9.75%]/usr/local/lib/python3.11/dist-packages/librosa/core/spectrum.py:266: UserWarning: n_fft=2048 is too large for input signal of length=1650\n",
            "  warnings.warn(\n",
            "Epoch 1/30 [Train]:  45%|████▌     | 34/75 [00:16<00:05,  7.74it/s, loss=14.3359, acc=9.65%]/usr/local/lib/python3.11/dist-packages/librosa/core/spectrum.py:266: UserWarning: n_fft=2048 is too large for input signal of length=1998\n",
            "  warnings.warn(\n",
            "/usr/local/lib/python3.11/dist-packages/librosa/core/spectrum.py:266: UserWarning: n_fft=2048 is too large for input signal of length=1531\n",
            "  warnings.warn(\n",
            "Epoch 1/30 [Train]:  47%|████▋     | 35/75 [00:16<00:05,  7.85it/s, loss=14.3086, acc=9.73%]/usr/local/lib/python3.11/dist-packages/librosa/core/spectrum.py:266: UserWarning: n_fft=2048 is too large for input signal of length=1866\n",
            "  warnings.warn(\n",
            "/usr/local/lib/python3.11/dist-packages/librosa/core/spectrum.py:266: UserWarning: n_fft=2048 is too large for input signal of length=1593\n",
            "  warnings.warn(\n",
            "/usr/local/lib/python3.11/dist-packages/librosa/core/spectrum.py:266: UserWarning: n_fft=2048 is too large for input signal of length=1873\n",
            "  warnings.warn(\n",
            "Epoch 1/30 [Train]:  48%|████▊     | 36/75 [00:16<00:05,  7.75it/s, loss=14.3133, acc=9.72%]/usr/local/lib/python3.11/dist-packages/librosa/core/spectrum.py:266: UserWarning: n_fft=2048 is too large for input signal of length=1556\n",
            "  warnings.warn(\n",
            "/usr/local/lib/python3.11/dist-packages/librosa/core/spectrum.py:266: UserWarning: n_fft=2048 is too large for input signal of length=1997\n",
            "  warnings.warn(\n",
            "/usr/local/lib/python3.11/dist-packages/librosa/core/spectrum.py:266: UserWarning: n_fft=2048 is too large for input signal of length=1251\n",
            "  warnings.warn(\n",
            "Epoch 1/30 [Train]:  51%|█████     | 38/75 [00:16<00:04,  7.81it/s, loss=14.2901, acc=9.70%]/usr/local/lib/python3.11/dist-packages/librosa/core/spectrum.py:266: UserWarning: n_fft=2048 is too large for input signal of length=1440\n",
            "  warnings.warn(\n",
            "/usr/local/lib/python3.11/dist-packages/librosa/core/spectrum.py:266: UserWarning: n_fft=2048 is too large for input signal of length=1915\n",
            "  warnings.warn(\n",
            "Epoch 1/30 [Train]:  53%|█████▎    | 40/75 [00:16<00:04,  7.37it/s, loss=14.2473, acc=10.08%]/usr/local/lib/python3.11/dist-packages/librosa/core/spectrum.py:266: UserWarning: n_fft=2048 is too large for input signal of length=1987\n",
            "  warnings.warn(\n",
            "/usr/local/lib/python3.11/dist-packages/librosa/core/spectrum.py:266: UserWarning: n_fft=2048 is too large for input signal of length=2015\n",
            "  warnings.warn(\n",
            "/usr/local/lib/python3.11/dist-packages/librosa/core/spectrum.py:266: UserWarning: n_fft=2048 is too large for input signal of length=2042\n",
            "  warnings.warn(\n",
            "/usr/local/lib/python3.11/dist-packages/librosa/core/spectrum.py:266: UserWarning: n_fft=2048 is too large for input signal of length=1516\n",
            "  warnings.warn(\n",
            "Epoch 1/30 [Train]:  55%|█████▍    | 41/75 [00:17<00:04,  7.34it/s, loss=14.2551, acc=10.21%]/usr/local/lib/python3.11/dist-packages/librosa/core/spectrum.py:266: UserWarning: n_fft=2048 is too large for input signal of length=1450\n",
            "  warnings.warn(\n",
            "/usr/local/lib/python3.11/dist-packages/librosa/core/spectrum.py:266: UserWarning: n_fft=2048 is too large for input signal of length=1446\n",
            "  warnings.warn(\n",
            "Epoch 1/30 [Train]:  56%|█████▌    | 42/75 [00:17<00:04,  6.95it/s, loss=14.2647, acc=10.04%]/usr/local/lib/python3.11/dist-packages/librosa/core/spectrum.py:266: UserWarning: n_fft=2048 is too large for input signal of length=1763\n",
            "  warnings.warn(\n",
            "Epoch 1/30 [Train]:  57%|█████▋    | 43/75 [00:17<00:04,  7.09it/s, loss=14.2372, acc=9.81%]/usr/local/lib/python3.11/dist-packages/librosa/core/spectrum.py:266: UserWarning: n_fft=2048 is too large for input signal of length=2023\n",
            "  warnings.warn(\n",
            "/usr/local/lib/python3.11/dist-packages/librosa/core/spectrum.py:266: UserWarning: n_fft=2048 is too large for input signal of length=1943\n",
            "  warnings.warn(\n",
            "Epoch 1/30 [Train]:  59%|█████▊    | 44/75 [00:17<00:04,  7.27it/s, loss=14.2753, acc=9.59%]/usr/local/lib/python3.11/dist-packages/librosa/core/spectrum.py:266: UserWarning: n_fft=2048 is too large for input signal of length=1910\n",
            "  warnings.warn(\n",
            "Epoch 1/30 [Train]:  60%|██████    | 45/75 [00:17<00:04,  7.40it/s, loss=14.2137, acc=9.72%]/usr/local/lib/python3.11/dist-packages/librosa/core/spectrum.py:266: UserWarning: n_fft=2048 is too large for input signal of length=1988\n",
            "  warnings.warn(\n",
            "/usr/local/lib/python3.11/dist-packages/librosa/core/spectrum.py:266: UserWarning: n_fft=2048 is too large for input signal of length=1772\n",
            "  warnings.warn(\n",
            "/usr/local/lib/python3.11/dist-packages/librosa/core/spectrum.py:266: UserWarning: n_fft=2048 is too large for input signal of length=1569\n",
            "  warnings.warn(\n",
            "/usr/local/lib/python3.11/dist-packages/librosa/core/spectrum.py:266: UserWarning: n_fft=2048 is too large for input signal of length=1753\n",
            "  warnings.warn(\n",
            "/usr/local/lib/python3.11/dist-packages/librosa/core/spectrum.py:266: UserWarning: n_fft=2048 is too large for input signal of length=1443\n",
            "  warnings.warn(\n",
            "/usr/local/lib/python3.11/dist-packages/librosa/core/spectrum.py:266: UserWarning: n_fft=2048 is too large for input signal of length=2022\n",
            "  warnings.warn(\n",
            "/usr/local/lib/python3.11/dist-packages/librosa/core/spectrum.py:266: UserWarning: n_fft=2048 is too large for input signal of length=1931\n",
            "  warnings.warn(\n",
            "Epoch 1/30 [Train]:  61%|██████▏   | 46/75 [00:17<00:03,  7.54it/s, loss=14.1538, acc=9.92%]/usr/local/lib/python3.11/dist-packages/librosa/core/spectrum.py:266: UserWarning: n_fft=2048 is too large for input signal of length=1664\n",
            "  warnings.warn(\n",
            "/usr/local/lib/python3.11/dist-packages/librosa/core/spectrum.py:266: UserWarning: n_fft=2048 is too large for input signal of length=1953\n",
            "  warnings.warn(\n",
            "/usr/local/lib/python3.11/dist-packages/librosa/core/spectrum.py:266: UserWarning: n_fft=2048 is too large for input signal of length=1795\n",
            "  warnings.warn(\n",
            "Epoch 1/30 [Train]:  63%|██████▎   | 47/75 [00:17<00:03,  7.05it/s, loss=14.2338, acc=9.84%]/usr/local/lib/python3.11/dist-packages/librosa/core/spectrum.py:266: UserWarning: n_fft=2048 is too large for input signal of length=1295\n",
            "  warnings.warn(\n",
            "/usr/local/lib/python3.11/dist-packages/librosa/core/spectrum.py:266: UserWarning: n_fft=2048 is too large for input signal of length=1525\n",
            "  warnings.warn(\n",
            "/usr/local/lib/python3.11/dist-packages/librosa/core/spectrum.py:266: UserWarning: n_fft=2048 is too large for input signal of length=1294\n",
            "  warnings.warn(\n",
            "/usr/local/lib/python3.11/dist-packages/librosa/core/spectrum.py:266: UserWarning: n_fft=2048 is too large for input signal of length=1673\n",
            "  warnings.warn(\n",
            "Epoch 1/30 [Train]:  64%|██████▍   | 48/75 [00:18<00:03,  6.83it/s, loss=14.2155, acc=9.64%]/usr/local/lib/python3.11/dist-packages/librosa/core/spectrum.py:266: UserWarning: n_fft=2048 is too large for input signal of length=1958\n",
            "  warnings.warn(\n",
            "/usr/local/lib/python3.11/dist-packages/librosa/core/spectrum.py:266: UserWarning: n_fft=2048 is too large for input signal of length=2016\n",
            "  warnings.warn(\n",
            "/usr/local/lib/python3.11/dist-packages/librosa/core/spectrum.py:266: UserWarning: n_fft=2048 is too large for input signal of length=1963\n",
            "  warnings.warn(\n",
            "Epoch 1/30 [Train]:  65%|██████▌   | 49/75 [00:18<00:03,  6.69it/s, loss=14.2364, acc=9.44%]/usr/local/lib/python3.11/dist-packages/librosa/core/spectrum.py:266: UserWarning: n_fft=2048 is too large for input signal of length=2020\n",
            "  warnings.warn(\n",
            "Epoch 1/30 [Train]:  67%|██████▋   | 50/75 [00:18<00:03,  6.95it/s, loss=14.2315, acc=9.38%]/usr/local/lib/python3.11/dist-packages/librosa/core/spectrum.py:266: UserWarning: n_fft=2048 is too large for input signal of length=1819\n",
            "  warnings.warn(\n",
            "Epoch 1/30 [Train]:  68%|██████▊   | 51/75 [00:18<00:03,  7.10it/s, loss=14.1720, acc=9.38%]/usr/local/lib/python3.11/dist-packages/librosa/core/spectrum.py:266: UserWarning: n_fft=2048 is too large for input signal of length=1455\n",
            "  warnings.warn(\n",
            "/usr/local/lib/python3.11/dist-packages/librosa/core/spectrum.py:266: UserWarning: n_fft=2048 is too large for input signal of length=1774\n",
            "  warnings.warn(\n",
            "/usr/local/lib/python3.11/dist-packages/librosa/core/spectrum.py:266: UserWarning: n_fft=2048 is too large for input signal of length=1639\n",
            "  warnings.warn(\n",
            "Epoch 1/30 [Train]:  69%|██████▉   | 52/75 [00:18<00:03,  7.10it/s, loss=14.1651, acc=9.38%]/usr/local/lib/python3.11/dist-packages/librosa/core/spectrum.py:266: UserWarning: n_fft=2048 is too large for input signal of length=1842\n",
            "  warnings.warn(\n",
            "Epoch 1/30 [Train]:  71%|███████   | 53/75 [00:18<00:03,  6.94it/s, loss=14.1774, acc=9.38%]/usr/local/lib/python3.11/dist-packages/librosa/core/spectrum.py:266: UserWarning: n_fft=2048 is too large for input signal of length=1704\n",
            "  warnings.warn(\n",
            "/usr/local/lib/python3.11/dist-packages/librosa/core/spectrum.py:266: UserWarning: n_fft=2048 is too large for input signal of length=1976\n",
            "  warnings.warn(\n",
            "/usr/local/lib/python3.11/dist-packages/librosa/core/spectrum.py:266: UserWarning: n_fft=2048 is too large for input signal of length=1965\n",
            "  warnings.warn(\n",
            "Epoch 1/30 [Train]:  72%|███████▏  | 54/75 [00:19<00:03,  6.76it/s, loss=14.1452, acc=9.32%]/usr/local/lib/python3.11/dist-packages/librosa/core/spectrum.py:266: UserWarning: n_fft=2048 is too large for input signal of length=1632\n",
            "  warnings.warn(\n",
            "/usr/local/lib/python3.11/dist-packages/librosa/core/spectrum.py:266: UserWarning: n_fft=2048 is too large for input signal of length=2039\n",
            "  warnings.warn(\n",
            "/usr/local/lib/python3.11/dist-packages/librosa/core/spectrum.py:266: UserWarning: n_fft=2048 is too large for input signal of length=1749\n",
            "  warnings.warn(\n",
            "/usr/local/lib/python3.11/dist-packages/librosa/core/spectrum.py:266: UserWarning: n_fft=2048 is too large for input signal of length=1793\n",
            "  warnings.warn(\n",
            "/usr/local/lib/python3.11/dist-packages/librosa/core/spectrum.py:266: UserWarning: n_fft=2048 is too large for input signal of length=1381\n",
            "  warnings.warn(\n",
            "Epoch 1/30 [Train]:  73%|███████▎  | 55/75 [00:19<00:02,  6.92it/s, loss=14.1318, acc=9.32%]/usr/local/lib/python3.11/dist-packages/librosa/core/spectrum.py:266: UserWarning: n_fft=2048 is too large for input signal of length=1712\n",
            "  warnings.warn(\n",
            "Epoch 1/30 [Train]:  75%|███████▍  | 56/75 [00:19<00:02,  7.15it/s, loss=14.1158, acc=9.32%]/usr/local/lib/python3.11/dist-packages/librosa/core/spectrum.py:266: UserWarning: n_fft=2048 is too large for input signal of length=1567\n",
            "  warnings.warn(\n",
            "/usr/local/lib/python3.11/dist-packages/librosa/core/spectrum.py:266: UserWarning: n_fft=2048 is too large for input signal of length=1854\n",
            "  warnings.warn(\n",
            "Epoch 1/30 [Train]:  76%|███████▌  | 57/75 [00:19<00:02,  6.96it/s, loss=14.1149, acc=9.32%]/usr/local/lib/python3.11/dist-packages/librosa/core/spectrum.py:266: UserWarning: n_fft=2048 is too large for input signal of length=1148\n",
            "  warnings.warn(\n",
            "/usr/local/lib/python3.11/dist-packages/librosa/core/spectrum.py:266: UserWarning: n_fft=2048 is too large for input signal of length=1824\n",
            "  warnings.warn(\n",
            "/usr/local/lib/python3.11/dist-packages/librosa/core/spectrum.py:266: UserWarning: n_fft=2048 is too large for input signal of length=1801\n",
            "  warnings.warn(\n",
            "Epoch 1/30 [Train]:  77%|███████▋  | 58/75 [00:19<00:02,  7.18it/s, loss=14.1250, acc=9.16%]/usr/local/lib/python3.11/dist-packages/librosa/core/spectrum.py:266: UserWarning: n_fft=2048 is too large for input signal of length=2045\n",
            "  warnings.warn(\n",
            "/usr/local/lib/python3.11/dist-packages/librosa/core/spectrum.py:266: UserWarning: n_fft=2048 is too large for input signal of length=1978\n",
            "  warnings.warn(\n",
            "Epoch 1/30 [Train]:  80%|████████  | 60/75 [00:19<00:02,  7.32it/s, loss=14.1144, acc=9.01%]/usr/local/lib/python3.11/dist-packages/librosa/core/spectrum.py:266: UserWarning: n_fft=2048 is too large for input signal of length=1781\n",
            "  warnings.warn(\n",
            "Epoch 1/30 [Train]:  81%|████████▏ | 61/75 [00:19<00:01,  7.13it/s, loss=14.0875, acc=8.97%]/usr/local/lib/python3.11/dist-packages/librosa/core/spectrum.py:266: UserWarning: n_fft=2048 is too large for input signal of length=1410\n",
            "  warnings.warn(\n",
            "/usr/local/lib/python3.11/dist-packages/librosa/core/spectrum.py:266: UserWarning: n_fft=2048 is too large for input signal of length=1705\n",
            "  warnings.warn(\n",
            "/usr/local/lib/python3.11/dist-packages/librosa/core/spectrum.py:266: UserWarning: n_fft=2048 is too large for input signal of length=1682\n",
            "  warnings.warn(\n",
            "/usr/local/lib/python3.11/dist-packages/librosa/core/spectrum.py:266: UserWarning: n_fft=2048 is too large for input signal of length=1846\n",
            "  warnings.warn(\n",
            "Epoch 1/30 [Train]:  83%|████████▎ | 62/75 [00:20<00:01,  7.29it/s, loss=14.0891, acc=8.87%]/usr/local/lib/python3.11/dist-packages/librosa/core/spectrum.py:266: UserWarning: n_fft=2048 is too large for input signal of length=1714\n",
            "  warnings.warn(\n",
            "/usr/local/lib/python3.11/dist-packages/librosa/core/spectrum.py:266: UserWarning: n_fft=2048 is too large for input signal of length=1838\n",
            "  warnings.warn(\n",
            "/usr/local/lib/python3.11/dist-packages/librosa/core/spectrum.py:266: UserWarning: n_fft=2048 is too large for input signal of length=2014\n",
            "  warnings.warn(\n",
            "Epoch 1/30 [Train]:  84%|████████▍ | 63/75 [00:20<00:01,  7.28it/s, loss=14.0913, acc=8.83%]/usr/local/lib/python3.11/dist-packages/librosa/core/spectrum.py:266: UserWarning: n_fft=2048 is too large for input signal of length=1710\n",
            "  warnings.warn(\n",
            "Epoch 1/30 [Train]:  85%|████████▌ | 64/75 [00:20<00:01,  6.98it/s, loss=14.0817, acc=8.79%]/usr/local/lib/python3.11/dist-packages/librosa/core/spectrum.py:266: UserWarning: n_fft=2048 is too large for input signal of length=1880\n",
            "  warnings.warn(\n",
            "Epoch 1/30 [Train]:  89%|████████▉ | 67/75 [00:20<00:01,  7.14it/s, loss=14.0477, acc=8.77%]/usr/local/lib/python3.11/dist-packages/librosa/core/spectrum.py:266: UserWarning: n_fft=2048 is too large for input signal of length=1288\n",
            "  warnings.warn(\n",
            "/usr/local/lib/python3.11/dist-packages/librosa/core/spectrum.py:266: UserWarning: n_fft=2048 is too large for input signal of length=1399\n",
            "  warnings.warn(\n",
            "/usr/local/lib/python3.11/dist-packages/librosa/core/spectrum.py:266: UserWarning: n_fft=2048 is too large for input signal of length=1945\n",
            "  warnings.warn(\n",
            "/usr/local/lib/python3.11/dist-packages/librosa/core/spectrum.py:266: UserWarning: n_fft=2048 is too large for input signal of length=1852\n",
            "  warnings.warn(\n",
            "Epoch 1/30 [Train]:  91%|█████████ | 68/75 [00:20<00:00,  7.33it/s, loss=14.0272, acc=8.78%]/usr/local/lib/python3.11/dist-packages/librosa/core/spectrum.py:266: UserWarning: n_fft=2048 is too large for input signal of length=1760\n",
            "  warnings.warn(\n",
            "Epoch 1/30 [Train]:  92%|█████████▏| 69/75 [00:21<00:00,  7.01it/s, loss=14.0223, acc=8.83%]/usr/local/lib/python3.11/dist-packages/librosa/core/spectrum.py:266: UserWarning: n_fft=2048 is too large for input signal of length=1560\n",
            "  warnings.warn(\n",
            "/usr/local/lib/python3.11/dist-packages/librosa/core/spectrum.py:266: UserWarning: n_fft=2048 is too large for input signal of length=1359\n",
            "  warnings.warn(\n",
            "Epoch 1/30 [Train]:  93%|█████████▎| 70/75 [00:21<00:00,  7.00it/s, loss=14.0185, acc=8.88%]/usr/local/lib/python3.11/dist-packages/librosa/core/spectrum.py:266: UserWarning: n_fft=2048 is too large for input signal of length=1434\n",
            "  warnings.warn(\n",
            "Epoch 1/30 [Train]:  95%|█████████▍| 71/75 [00:21<00:00,  7.09it/s, loss=14.0117, acc=8.89%]/usr/local/lib/python3.11/dist-packages/librosa/core/spectrum.py:266: UserWarning: n_fft=2048 is too large for input signal of length=1806\n",
            "  warnings.warn(\n",
            "/usr/local/lib/python3.11/dist-packages/librosa/core/spectrum.py:266: UserWarning: n_fft=2048 is too large for input signal of length=1830\n",
            "  warnings.warn(\n",
            "Epoch 1/30 [Train]:  96%|█████████▌| 72/75 [00:21<00:00,  6.80it/s, loss=14.0104, acc=8.85%]/usr/local/lib/python3.11/dist-packages/librosa/core/spectrum.py:266: UserWarning: n_fft=2048 is too large for input signal of length=1568\n",
            "  warnings.warn(\n",
            "Epoch 1/30 [Train]:  97%|█████████▋| 73/75 [00:21<00:00,  6.62it/s, loss=14.0023, acc=8.95%]/usr/local/lib/python3.11/dist-packages/librosa/core/spectrum.py:266: UserWarning: n_fft=2048 is too large for input signal of length=1788\n",
            "  warnings.warn(\n",
            "/usr/local/lib/python3.11/dist-packages/librosa/core/spectrum.py:266: UserWarning: n_fft=2048 is too large for input signal of length=1906\n",
            "  warnings.warn(\n",
            "/usr/local/lib/python3.11/dist-packages/librosa/core/spectrum.py:266: UserWarning: n_fft=2048 is too large for input signal of length=1742\n",
            "  warnings.warn(\n",
            "Epoch 1/30 [Train]:  99%|█████████▊| 74/75 [00:21<00:00,  6.80it/s, loss=13.9437, acc=9.16%]/usr/local/lib/python3.11/dist-packages/librosa/core/spectrum.py:266: UserWarning: n_fft=2048 is too large for input signal of length=1890\n",
            "  warnings.warn(\n",
            "/usr/local/lib/python3.11/dist-packages/librosa/core/spectrum.py:266: UserWarning: n_fft=2048 is too large for input signal of length=1868\n",
            "  warnings.warn(\n",
            "Epoch 1/30 [Train]: 100%|██████████| 75/75 [00:21<00:00,  3.41it/s, loss=13.9653, acc=9.12%]\n",
            "Epoch 1/30 [Val]:   0%|          | 0/19 [00:00<?, ?it/s]/usr/local/lib/python3.11/dist-packages/librosa/core/spectrum.py:266: UserWarning: n_fft=2048 is too large for input signal of length=1547\n",
            "  warnings.warn(\n",
            "Epoch 1/30 [Val]:   5%|▌         | 1/19 [00:00<00:02,  6.85it/s, loss=13.7784, acc=15.62%]/usr/local/lib/python3.11/dist-packages/librosa/core/spectrum.py:266: UserWarning: n_fft=2048 is too large for input signal of length=1817\n",
            "  warnings.warn(\n",
            "Epoch 1/30 [Val]:  11%|█         | 2/19 [00:00<00:02,  7.16it/s, loss=13.7922, acc=10.94%]/usr/local/lib/python3.11/dist-packages/librosa/core/spectrum.py:266: UserWarning: n_fft=2048 is too large for input signal of length=1627\n",
            "  warnings.warn(\n",
            "/usr/local/lib/python3.11/dist-packages/librosa/core/spectrum.py:266: UserWarning: n_fft=2048 is too large for input signal of length=1803\n",
            "  warnings.warn(\n",
            "Epoch 1/30 [Val]:  16%|█▌        | 3/19 [00:00<00:02,  7.58it/s, loss=13.7845, acc=8.33%]/usr/local/lib/python3.11/dist-packages/librosa/core/spectrum.py:266: UserWarning: n_fft=2048 is too large for input signal of length=1357\n",
            "  warnings.warn(\n",
            "/usr/local/lib/python3.11/dist-packages/librosa/core/spectrum.py:266: UserWarning: n_fft=2048 is too large for input signal of length=2007\n",
            "  warnings.warn(\n",
            "/usr/local/lib/python3.11/dist-packages/librosa/core/spectrum.py:266: UserWarning: n_fft=2048 is too large for input signal of length=1970\n",
            "  warnings.warn(\n",
            "Epoch 1/30 [Val]:  21%|██        | 4/19 [00:00<00:01,  7.96it/s, loss=13.7802, acc=7.81%]/usr/local/lib/python3.11/dist-packages/librosa/core/spectrum.py:266: UserWarning: n_fft=2048 is too large for input signal of length=1259\n",
            "  warnings.warn(\n",
            "Epoch 1/30 [Val]:  26%|██▋       | 5/19 [00:00<00:01,  8.22it/s, loss=13.7545, acc=8.12%]/usr/local/lib/python3.11/dist-packages/librosa/core/spectrum.py:266: UserWarning: n_fft=2048 is too large for input signal of length=1960\n",
            "  warnings.warn(\n",
            "/usr/local/lib/python3.11/dist-packages/librosa/core/spectrum.py:266: UserWarning: n_fft=2048 is too large for input signal of length=1785\n",
            "  warnings.warn(\n",
            "/usr/local/lib/python3.11/dist-packages/librosa/core/spectrum.py:266: UserWarning: n_fft=2048 is too large for input signal of length=1597\n",
            "  warnings.warn(\n",
            "Epoch 1/30 [Val]:  32%|███▏      | 6/19 [00:00<00:01,  8.16it/s, loss=13.7727, acc=9.38%]/usr/local/lib/python3.11/dist-packages/librosa/core/spectrum.py:266: UserWarning: n_fft=2048 is too large for input signal of length=1761\n",
            "  warnings.warn(\n",
            "Epoch 1/30 [Val]:  37%|███▋      | 7/19 [00:00<00:01,  8.23it/s, loss=13.7933, acc=10.27%]/usr/local/lib/python3.11/dist-packages/librosa/core/spectrum.py:266: UserWarning: n_fft=2048 is too large for input signal of length=1936\n",
            "  warnings.warn(\n",
            "Epoch 1/30 [Val]:  47%|████▋     | 9/19 [00:01<00:01,  8.38it/s, loss=13.7404, acc=10.76%]/usr/local/lib/python3.11/dist-packages/librosa/core/spectrum.py:266: UserWarning: n_fft=2048 is too large for input signal of length=1493\n",
            "  warnings.warn(\n",
            "/usr/local/lib/python3.11/dist-packages/librosa/core/spectrum.py:266: UserWarning: n_fft=2048 is too large for input signal of length=2001\n",
            "  warnings.warn(\n",
            "Epoch 1/30 [Val]:  63%|██████▎   | 12/19 [00:01<00:00,  8.29it/s, loss=13.8155, acc=10.16%]/usr/local/lib/python3.11/dist-packages/librosa/core/spectrum.py:266: UserWarning: n_fft=2048 is too large for input signal of length=1692\n",
            "  warnings.warn(\n",
            "Epoch 1/30 [Val]:  68%|██████▊   | 13/19 [00:01<00:00,  8.09it/s, loss=13.7479, acc=10.82%]/usr/local/lib/python3.11/dist-packages/librosa/core/spectrum.py:266: UserWarning: n_fft=2048 is too large for input signal of length=1502\n",
            "  warnings.warn(\n",
            "/usr/local/lib/python3.11/dist-packages/librosa/core/spectrum.py:266: UserWarning: n_fft=2048 is too large for input signal of length=1697\n",
            "  warnings.warn(\n",
            "Epoch 1/30 [Val]:  74%|███████▎  | 14/19 [00:01<00:00,  7.65it/s, loss=13.7886, acc=10.49%]/usr/local/lib/python3.11/dist-packages/librosa/core/spectrum.py:266: UserWarning: n_fft=2048 is too large for input signal of length=1609\n",
            "  warnings.warn(\n",
            "/usr/local/lib/python3.11/dist-packages/librosa/core/spectrum.py:266: UserWarning: n_fft=2048 is too large for input signal of length=1900\n",
            "  warnings.warn(\n",
            "Epoch 1/30 [Val]:  79%|███████▉  | 15/19 [00:01<00:00,  7.40it/s, loss=13.7815, acc=10.62%]/usr/local/lib/python3.11/dist-packages/librosa/core/spectrum.py:266: UserWarning: n_fft=2048 is too large for input signal of length=2037\n",
            "  warnings.warn(\n",
            "/usr/local/lib/python3.11/dist-packages/librosa/core/spectrum.py:266: UserWarning: n_fft=2048 is too large for input signal of length=1833\n",
            "  warnings.warn(\n",
            "/usr/local/lib/python3.11/dist-packages/librosa/core/spectrum.py:266: UserWarning: n_fft=2048 is too large for input signal of length=1634\n",
            "  warnings.warn(\n",
            "Epoch 1/30 [Val]:  84%|████████▍ | 16/19 [00:02<00:00,  7.63it/s, loss=13.7653, acc=10.35%]/usr/local/lib/python3.11/dist-packages/librosa/core/spectrum.py:266: UserWarning: n_fft=2048 is too large for input signal of length=1542\n",
            "  warnings.warn(\n",
            "/usr/local/lib/python3.11/dist-packages/librosa/core/spectrum.py:266: UserWarning: n_fft=2048 is too large for input signal of length=1790\n",
            "  warnings.warn(\n",
            "/usr/local/lib/python3.11/dist-packages/librosa/core/spectrum.py:266: UserWarning: n_fft=2048 is too large for input signal of length=1722\n",
            "  warnings.warn(\n",
            "Epoch 1/30 [Val]:  95%|█████████▍| 18/19 [00:02<00:00,  7.91it/s, loss=13.7887, acc=9.90%]/usr/local/lib/python3.11/dist-packages/librosa/core/spectrum.py:266: UserWarning: n_fft=2048 is too large for input signal of length=1850\n",
            "  warnings.warn(\n",
            "Epoch 1/30 [Val]: 100%|██████████| 19/19 [00:02<00:00,  8.07it/s, loss=13.7545, acc=10.00%]\n"
          ]
        },
        {
          "output_type": "stream",
          "name": "stdout",
          "text": [
            "Checkpoint saved: Validation accuracy improved to 10.00%\n",
            "Epoch [1/30], Train Loss: 14.6982, Train Acc: 9.12%, Val Loss: 13.7770, Val Acc: 10.00%\n"
          ]
        },
        {
          "output_type": "stream",
          "name": "stderr",
          "text": [
            "Epoch 2/30 [Train]: 100%|██████████| 75/75 [00:09<00:00,  7.61it/s, loss=13.4689, acc=8.71%]\n",
            "Epoch 2/30 [Val]: 100%|██████████| 19/19 [00:02<00:00,  8.09it/s, loss=13.3197, acc=10.00%]\n"
          ]
        },
        {
          "output_type": "stream",
          "name": "stdout",
          "text": [
            "Epoch [2/30], Train Loss: 13.7175, Train Acc: 8.71%, Val Loss: 13.2870, Val Acc: 10.00%\n"
          ]
        },
        {
          "output_type": "stream",
          "name": "stderr",
          "text": [
            "Epoch 3/30 [Train]: 100%|██████████| 75/75 [00:10<00:00,  7.36it/s, loss=12.9105, acc=10.21%]\n",
            "Epoch 3/30 [Val]: 100%|██████████| 19/19 [00:02<00:00,  8.29it/s, loss=12.7711, acc=10.00%]\n"
          ]
        },
        {
          "output_type": "stream",
          "name": "stdout",
          "text": [
            "Epoch [3/30], Train Loss: 13.1723, Train Acc: 10.21%, Val Loss: 12.7815, Val Acc: 10.00%\n"
          ]
        },
        {
          "output_type": "stream",
          "name": "stderr",
          "text": [
            "Epoch 4/30 [Train]: 100%|██████████| 75/75 [00:10<00:00,  7.27it/s, loss=12.3636, acc=9.58%]\n",
            "Epoch 4/30 [Val]: 100%|██████████| 19/19 [00:02<00:00,  8.21it/s, loss=12.2664, acc=10.00%]\n"
          ]
        },
        {
          "output_type": "stream",
          "name": "stdout",
          "text": [
            "Epoch [4/30], Train Loss: 12.6416, Train Acc: 9.58%, Val Loss: 12.2862, Val Acc: 10.00%\n"
          ]
        },
        {
          "output_type": "stream",
          "name": "stderr",
          "text": [
            "Epoch 5/30 [Train]: 100%|██████████| 75/75 [00:10<00:00,  7.37it/s, loss=11.8814, acc=8.50%]\n",
            "Epoch 5/30 [Val]: 100%|██████████| 19/19 [00:02<00:00,  7.99it/s, loss=11.7857, acc=10.00%]\n"
          ]
        },
        {
          "output_type": "stream",
          "name": "stdout",
          "text": [
            "Epoch [5/30], Train Loss: 12.1213, Train Acc: 8.50%, Val Loss: 11.7886, Val Acc: 10.00%\n"
          ]
        },
        {
          "output_type": "stream",
          "name": "stderr",
          "text": [
            "Epoch 6/30 [Train]: 100%|██████████| 75/75 [00:09<00:00,  7.52it/s, loss=11.3183, acc=10.17%]\n",
            "Epoch 6/30 [Val]: 100%|██████████| 19/19 [00:02<00:00,  8.17it/s, loss=11.3595, acc=10.00%]\n"
          ]
        },
        {
          "output_type": "stream",
          "name": "stdout",
          "text": [
            "Epoch [6/30], Train Loss: 11.6081, Train Acc: 10.17%, Val Loss: 11.3086, Val Acc: 10.00%\n"
          ]
        },
        {
          "output_type": "stream",
          "name": "stderr",
          "text": [
            "Epoch 7/30 [Train]: 100%|██████████| 75/75 [00:10<00:00,  7.29it/s, loss=10.8318, acc=9.62%]\n",
            "Epoch 7/30 [Val]: 100%|██████████| 19/19 [00:02<00:00,  8.12it/s, loss=10.8355, acc=10.00%]\n"
          ]
        },
        {
          "output_type": "stream",
          "name": "stdout",
          "text": [
            "Epoch [7/30], Train Loss: 11.1107, Train Acc: 9.62%, Val Loss: 10.8091, Val Acc: 10.00%\n"
          ]
        },
        {
          "output_type": "stream",
          "name": "stderr",
          "text": [
            "Epoch 8/30 [Train]: 100%|██████████| 75/75 [00:10<00:00,  7.29it/s, loss=10.4506, acc=10.25%]\n",
            "Epoch 8/30 [Val]: 100%|██████████| 19/19 [00:02<00:00,  8.59it/s, loss=10.2593, acc=10.00%]\n"
          ]
        },
        {
          "output_type": "stream",
          "name": "stdout",
          "text": [
            "Epoch [8/30], Train Loss: 10.6081, Train Acc: 10.25%, Val Loss: 10.3239, Val Acc: 10.00%\n"
          ]
        },
        {
          "output_type": "stream",
          "name": "stderr",
          "text": [
            "Epoch 9/30 [Train]: 100%|██████████| 75/75 [00:10<00:00,  7.41it/s, loss=9.8055, acc=9.00%]\n",
            "Epoch 9/30 [Val]: 100%|██████████| 19/19 [00:02<00:00,  8.46it/s, loss=9.7918, acc=10.00%]\n"
          ]
        },
        {
          "output_type": "stream",
          "name": "stdout",
          "text": [
            "Epoch [9/30], Train Loss: 10.1101, Train Acc: 9.00%, Val Loss: 9.8297, Val Acc: 10.00%\n"
          ]
        },
        {
          "output_type": "stream",
          "name": "stderr",
          "text": [
            "Epoch 10/30 [Train]: 100%|██████████| 75/75 [00:10<00:00,  7.40it/s, loss=9.3646, acc=9.04%]\n",
            "Epoch 10/30 [Val]: 100%|██████████| 19/19 [00:02<00:00,  7.85it/s, loss=9.3068, acc=10.00%]\n"
          ]
        },
        {
          "output_type": "stream",
          "name": "stdout",
          "text": [
            "Epoch [10/30], Train Loss: 9.6154, Train Acc: 9.04%, Val Loss: 9.3336, Val Acc: 10.00%\n"
          ]
        },
        {
          "output_type": "stream",
          "name": "stderr",
          "text": [
            "Epoch 11/30 [Train]: 100%|██████████| 75/75 [00:09<00:00,  7.65it/s, loss=8.8947, acc=9.00%]\n",
            "Epoch 11/30 [Val]: 100%|██████████| 19/19 [00:02<00:00,  7.95it/s, loss=8.7870, acc=10.00%]\n"
          ]
        },
        {
          "output_type": "stream",
          "name": "stdout",
          "text": [
            "Epoch [11/30], Train Loss: 9.1257, Train Acc: 9.00%, Val Loss: 8.8491, Val Acc: 10.00%\n"
          ]
        },
        {
          "output_type": "stream",
          "name": "stderr",
          "text": [
            "Epoch 12/30 [Train]: 100%|██████████| 75/75 [00:09<00:00,  7.55it/s, loss=8.3464, acc=9.71%]\n",
            "Epoch 12/30 [Val]: 100%|██████████| 19/19 [00:02<00:00,  7.78it/s, loss=8.3587, acc=10.00%]\n"
          ]
        },
        {
          "output_type": "stream",
          "name": "stdout",
          "text": [
            "Epoch [12/30], Train Loss: 8.6373, Train Acc: 9.71%, Val Loss: 8.3546, Val Acc: 10.00%\n"
          ]
        },
        {
          "output_type": "stream",
          "name": "stderr",
          "text": [
            "Epoch 13/30 [Train]: 100%|██████████| 75/75 [00:10<00:00,  7.44it/s, loss=7.8908, acc=9.83%]\n",
            "Epoch 13/30 [Val]: 100%|██████████| 19/19 [00:02<00:00,  8.20it/s, loss=7.8753, acc=10.00%]\n"
          ]
        },
        {
          "output_type": "stream",
          "name": "stdout",
          "text": [
            "Epoch [13/30], Train Loss: 8.1496, Train Acc: 9.83%, Val Loss: 7.8684, Val Acc: 10.00%\n"
          ]
        },
        {
          "output_type": "stream",
          "name": "stderr",
          "text": [
            "Epoch 14/30 [Train]: 100%|██████████| 75/75 [00:09<00:00,  7.50it/s, loss=7.4130, acc=9.88%]\n",
            "Epoch 14/30 [Val]: 100%|██████████| 19/19 [00:02<00:00,  8.33it/s, loss=7.4324, acc=10.00%]\n"
          ]
        },
        {
          "output_type": "stream",
          "name": "stdout",
          "text": [
            "Epoch [14/30], Train Loss: 7.6538, Train Acc: 9.88%, Val Loss: 7.3807, Val Acc: 10.00%\n"
          ]
        },
        {
          "output_type": "stream",
          "name": "stderr",
          "text": [
            "Epoch 15/30 [Train]: 100%|██████████| 75/75 [00:10<00:00,  7.47it/s, loss=6.9169, acc=10.04%]\n",
            "Epoch 15/30 [Val]: 100%|██████████| 19/19 [00:02<00:00,  8.58it/s, loss=6.9002, acc=10.00%]\n"
          ]
        },
        {
          "output_type": "stream",
          "name": "stdout",
          "text": [
            "Epoch [15/30], Train Loss: 7.1675, Train Acc: 10.04%, Val Loss: 6.8918, Val Acc: 10.00%\n"
          ]
        },
        {
          "output_type": "stream",
          "name": "stderr",
          "text": [
            "Epoch 16/30 [Train]: 100%|██████████| 75/75 [00:09<00:00,  7.74it/s, loss=6.4508, acc=9.33%]\n",
            "Epoch 16/30 [Val]: 100%|██████████| 19/19 [00:02<00:00,  8.26it/s, loss=6.4464, acc=10.00%]\n"
          ]
        },
        {
          "output_type": "stream",
          "name": "stdout",
          "text": [
            "Epoch [16/30], Train Loss: 6.6817, Train Acc: 9.33%, Val Loss: 6.4096, Val Acc: 10.00%\n"
          ]
        },
        {
          "output_type": "stream",
          "name": "stderr",
          "text": [
            "Epoch 17/30 [Train]: 100%|██████████| 75/75 [00:09<00:00,  7.52it/s, loss=5.9813, acc=10.54%]\n",
            "Epoch 17/30 [Val]: 100%|██████████| 19/19 [00:02<00:00,  8.13it/s, loss=5.9444, acc=10.00%]\n"
          ]
        },
        {
          "output_type": "stream",
          "name": "stdout",
          "text": [
            "Epoch [17/30], Train Loss: 6.1950, Train Acc: 10.54%, Val Loss: 5.9289, Val Acc: 10.00%\n"
          ]
        },
        {
          "output_type": "stream",
          "name": "stderr",
          "text": [
            "Epoch 18/30 [Train]: 100%|██████████| 75/75 [00:09<00:00,  7.56it/s, loss=5.4516, acc=9.83%]\n",
            "Epoch 18/30 [Val]: 100%|██████████| 19/19 [00:02<00:00,  8.59it/s, loss=5.4645, acc=10.00%]\n"
          ]
        },
        {
          "output_type": "stream",
          "name": "stdout",
          "text": [
            "Epoch [18/30], Train Loss: 5.7096, Train Acc: 9.83%, Val Loss: 5.4407, Val Acc: 10.00%\n"
          ]
        },
        {
          "output_type": "stream",
          "name": "stderr",
          "text": [
            "Epoch 19/30 [Train]: 100%|██████████| 75/75 [00:09<00:00,  7.61it/s, loss=4.9759, acc=9.79%]\n",
            "Epoch 19/30 [Val]: 100%|██████████| 19/19 [00:02<00:00,  8.54it/s, loss=4.9053, acc=10.00%]\n"
          ]
        },
        {
          "output_type": "stream",
          "name": "stdout",
          "text": [
            "Epoch [19/30], Train Loss: 5.2259, Train Acc: 9.79%, Val Loss: 4.9494, Val Acc: 10.00%\n"
          ]
        },
        {
          "output_type": "stream",
          "name": "stderr",
          "text": [
            "Epoch 20/30 [Train]: 100%|██████████| 75/75 [00:09<00:00,  7.59it/s, loss=4.5298, acc=9.92%]\n",
            "Epoch 20/30 [Val]: 100%|██████████| 19/19 [00:02<00:00,  8.21it/s, loss=4.4899, acc=10.00%]\n"
          ]
        },
        {
          "output_type": "stream",
          "name": "stdout",
          "text": [
            "Epoch [20/30], Train Loss: 4.7411, Train Acc: 9.92%, Val Loss: 4.4695, Val Acc: 10.00%\n"
          ]
        },
        {
          "output_type": "stream",
          "name": "stderr",
          "text": [
            "Epoch 21/30 [Train]: 100%|██████████| 75/75 [00:09<00:00,  7.60it/s, loss=4.0148, acc=9.08%]\n",
            "Epoch 21/30 [Val]: 100%|██████████| 19/19 [00:02<00:00,  8.43it/s, loss=3.9702, acc=10.00%]\n"
          ]
        },
        {
          "output_type": "stream",
          "name": "stdout",
          "text": [
            "Epoch [21/30], Train Loss: 4.2562, Train Acc: 9.08%, Val Loss: 3.9855, Val Acc: 10.00%\n"
          ]
        },
        {
          "output_type": "stream",
          "name": "stderr",
          "text": [
            "Epoch 22/30 [Train]: 100%|██████████| 75/75 [00:09<00:00,  7.69it/s, loss=3.5305, acc=9.96%]\n",
            "Epoch 22/30 [Val]: 100%|██████████| 19/19 [00:02<00:00,  8.34it/s, loss=3.4811, acc=10.00%]\n"
          ]
        },
        {
          "output_type": "stream",
          "name": "stdout",
          "text": [
            "Epoch [22/30], Train Loss: 3.7716, Train Acc: 9.96%, Val Loss: 3.5027, Val Acc: 10.00%\n"
          ]
        },
        {
          "output_type": "stream",
          "name": "stderr",
          "text": [
            "Epoch 23/30 [Train]: 100%|██████████| 75/75 [00:09<00:00,  7.56it/s, loss=3.0598, acc=10.50%]\n",
            "Epoch 23/30 [Val]: 100%|██████████| 19/19 [00:02<00:00,  8.09it/s, loss=3.0262, acc=10.00%]\n"
          ]
        },
        {
          "output_type": "stream",
          "name": "stdout",
          "text": [
            "Epoch [23/30], Train Loss: 3.2911, Train Acc: 10.50%, Val Loss: 3.0205, Val Acc: 10.00%\n"
          ]
        },
        {
          "output_type": "stream",
          "name": "stderr",
          "text": [
            "Epoch 24/30 [Train]: 100%|██████████| 75/75 [00:10<00:00,  7.46it/s, loss=2.5493, acc=10.04%]\n",
            "Epoch 24/30 [Val]: 100%|██████████| 19/19 [00:02<00:00,  8.65it/s, loss=2.5299, acc=10.00%]\n"
          ]
        },
        {
          "output_type": "stream",
          "name": "stdout",
          "text": [
            "Epoch [24/30], Train Loss: 2.8012, Train Acc: 10.04%, Val Loss: 2.5457, Val Acc: 10.00%\n"
          ]
        },
        {
          "output_type": "stream",
          "name": "stderr",
          "text": [
            "Epoch 25/30 [Train]: 100%|██████████| 75/75 [00:10<00:00,  7.31it/s, loss=2.0923, acc=9.46%]\n",
            "Epoch 25/30 [Val]: 100%|██████████| 19/19 [00:02<00:00,  8.19it/s, loss=2.0684, acc=10.00%]\n"
          ]
        },
        {
          "output_type": "stream",
          "name": "stdout",
          "text": [
            "Epoch [25/30], Train Loss: 2.3218, Train Acc: 9.46%, Val Loss: 2.0543, Val Acc: 10.00%\n"
          ]
        },
        {
          "output_type": "stream",
          "name": "stderr",
          "text": [
            "Epoch 26/30 [Train]: 100%|██████████| 75/75 [00:10<00:00,  7.48it/s, loss=1.6168, acc=9.88%]\n",
            "Epoch 26/30 [Val]: 100%|██████████| 19/19 [00:02<00:00,  8.37it/s, loss=1.5956, acc=10.00%]\n"
          ]
        },
        {
          "output_type": "stream",
          "name": "stdout",
          "text": [
            "Epoch [26/30], Train Loss: 1.8365, Train Acc: 9.88%, Val Loss: 1.5704, Val Acc: 10.00%\n"
          ]
        },
        {
          "output_type": "stream",
          "name": "stderr",
          "text": [
            "Epoch 27/30 [Train]: 100%|██████████| 75/75 [00:10<00:00,  7.34it/s, loss=1.1070, acc=8.75%]\n",
            "Epoch 27/30 [Val]: 100%|██████████| 19/19 [00:02<00:00,  8.52it/s, loss=1.0871, acc=10.00%]\n"
          ]
        },
        {
          "output_type": "stream",
          "name": "stdout",
          "text": [
            "Epoch [27/30], Train Loss: 1.3592, Train Acc: 8.75%, Val Loss: 1.0905, Val Acc: 10.00%\n"
          ]
        },
        {
          "output_type": "stream",
          "name": "stderr",
          "text": [
            "Epoch 28/30 [Train]: 100%|██████████| 75/75 [00:10<00:00,  7.33it/s, loss=0.6680, acc=9.33%]\n",
            "Epoch 28/30 [Val]: 100%|██████████| 19/19 [00:02<00:00,  8.32it/s, loss=0.6126, acc=10.00%]\n"
          ]
        },
        {
          "output_type": "stream",
          "name": "stdout",
          "text": [
            "Epoch [28/30], Train Loss: 0.8736, Train Acc: 9.33%, Val Loss: 0.6078, Val Acc: 10.00%\n"
          ]
        },
        {
          "output_type": "stream",
          "name": "stderr",
          "text": [
            "Epoch 29/30 [Train]: 100%|██████████| 75/75 [00:09<00:00,  7.55it/s, loss=0.1332, acc=9.29%]\n",
            "Epoch 29/30 [Val]: 100%|██████████| 19/19 [00:02<00:00,  8.26it/s, loss=0.1460, acc=10.00%]\n"
          ]
        },
        {
          "output_type": "stream",
          "name": "stdout",
          "text": [
            "Epoch [29/30], Train Loss: 0.3948, Train Acc: 9.29%, Val Loss: 0.1208, Val Acc: 10.00%\n"
          ]
        },
        {
          "output_type": "stream",
          "name": "stderr",
          "text": [
            "Epoch 30/30 [Train]: 100%|██████████| 75/75 [00:09<00:00,  7.58it/s, loss=-0.3106, acc=9.25%]\n",
            "Epoch 30/30 [Val]: 100%|██████████| 19/19 [00:02<00:00,  8.27it/s, loss=-0.3797, acc=10.00%]\n"
          ]
        },
        {
          "output_type": "stream",
          "name": "stdout",
          "text": [
            "Epoch [30/30], Train Loss: -0.0918, Train Acc: 9.25%, Val Loss: -0.3537, Val Acc: 10.00%\n"
          ]
        },
        {
          "output_type": "display_data",
          "data": {
            "text/plain": [
              "<Figure size 1200x500 with 2 Axes>"
            ],
            "image/png": "[encoded data removed]"
          },
          "metadata": {}
        },
        {
          "output_type": "stream",
          "name": "stdout",
          "text": [
            "\n",
            "Tải mô hình tốt nhất...\n",
            "\n",
            "Đánh giá mô hình trên tập validation...\n",
            "Accuracy trên tập validation: 10.00%\n",
            "\n",
            "Quá trình huấn luyện và đánh giá đã hoàn tất!\n",
            "Confusion matrix đã được lưu vào file 'confusion_matrix.png'\n"
          ]
        },
        {
          "output_type": "display_data",
          "data": {
            "text/plain": [
              "<Figure size 1000x800 with 2 Axes>"
            ],
            "image/png": "[encoded data removed]"
          },
          "metadata": {}
        }
      ]
    }
  ]
}